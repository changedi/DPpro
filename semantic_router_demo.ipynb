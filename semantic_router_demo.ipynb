{
  "nbformat": 4,
  "nbformat_minor": 0,
  "metadata": {
    "colab": {
      "provenance": [],
      "authorship_tag": "ABX9TyP8qr+Nep2yXji9SlCxGEjE",
      "include_colab_link": true
    },
    "kernelspec": {
      "name": "python3",
      "display_name": "Python 3"
    },
    "language_info": {
      "name": "python"
    }
  },
  "cells": [
    {
      "cell_type": "markdown",
      "metadata": {
        "id": "view-in-github",
        "colab_type": "text"
      },
      "source": [
        "<a href=\"https://colab.research.google.com/github/changedi/DPpro/blob/master/semantic_router_demo.ipynb\" target=\"_parent\"><img src=\"https://colab.research.google.com/assets/colab-badge.svg\" alt=\"Open In Colab\"/></a>"
      ]
    },
    {
      "cell_type": "code",
      "execution_count": 1,
      "metadata": {
        "colab": {
          "base_uri": "https://localhost:8080/"
        },
        "id": "ngwsXDinVID0",
        "outputId": "fdfbab60-9616-4740-ef7d-508e22064cb1"
      },
      "outputs": [
        {
          "output_type": "stream",
          "name": "stdout",
          "text": [
            "Requirement already satisfied: tzdata in /usr/local/lib/python3.10/dist-packages (2024.1)\n",
            "\u001b[2K     \u001b[90m━━━━━━━━━━━━━━━━━━━━━━━━━━━━━━━━━━━━━━━━\u001b[0m \u001b[32m74.8/74.8 kB\u001b[0m \u001b[31m1.7 MB/s\u001b[0m eta \u001b[36m0:00:00\u001b[0m\n",
            "\u001b[2K     \u001b[90m━━━━━━━━━━━━━━━━━━━━━━━━━━━━━━━━━━━━━━━━\u001b[0m \u001b[32m173.8/173.8 kB\u001b[0m \u001b[31m5.2 MB/s\u001b[0m eta \u001b[36m0:00:00\u001b[0m\n",
            "\u001b[2K     \u001b[90m━━━━━━━━━━━━━━━━━━━━━━━━━━━━━━━━━━━━━━━━\u001b[0m \u001b[32m327.4/327.4 kB\u001b[0m \u001b[31m8.0 MB/s\u001b[0m eta \u001b[36m0:00:00\u001b[0m\n",
            "\u001b[2K     \u001b[90m━━━━━━━━━━━━━━━━━━━━━━━━━━━━━━━━━━━━━━━━\u001b[0m \u001b[32m1.1/1.1 MB\u001b[0m \u001b[31m12.2 MB/s\u001b[0m eta \u001b[36m0:00:00\u001b[0m\n",
            "\u001b[2K     \u001b[90m━━━━━━━━━━━━━━━━━━━━━━━━━━━━━━━━━━━━━━━━\u001b[0m \u001b[32m139.2/139.2 kB\u001b[0m \u001b[31m1.6 MB/s\u001b[0m eta \u001b[36m0:00:00\u001b[0m\n",
            "\u001b[2K     \u001b[90m━━━━━━━━━━━━━━━━━━━━━━━━━━━━━━━━━━━━━━━━\u001b[0m \u001b[32m3.1/3.1 MB\u001b[0m \u001b[31m21.2 MB/s\u001b[0m eta \u001b[36m0:00:00\u001b[0m\n",
            "\u001b[2K     \u001b[90m━━━━━━━━━━━━━━━━━━━━━━━━━━━━━━━━━━━━━━━━\u001b[0m \u001b[32m75.6/75.6 kB\u001b[0m \u001b[31m5.9 MB/s\u001b[0m eta \u001b[36m0:00:00\u001b[0m\n",
            "\u001b[2K     \u001b[90m━━━━━━━━━━━━━━━━━━━━━━━━━━━━━━━━━━━━━━━━\u001b[0m \u001b[32m12.3/12.3 MB\u001b[0m \u001b[31m55.1 MB/s\u001b[0m eta \u001b[36m0:00:00\u001b[0m\n",
            "\u001b[2K     \u001b[90m━━━━━━━━━━━━━━━━━━━━━━━━━━━━━━━━━━━━━━━━\u001b[0m \u001b[32m82.2/82.2 kB\u001b[0m \u001b[31m12.0 MB/s\u001b[0m eta \u001b[36m0:00:00\u001b[0m\n",
            "\u001b[2K     \u001b[90m━━━━━━━━━━━━━━━━━━━━━━━━━━━━━━━━━━━━━━━━\u001b[0m \u001b[32m77.9/77.9 kB\u001b[0m \u001b[31m5.7 MB/s\u001b[0m eta \u001b[36m0:00:00\u001b[0m\n",
            "\u001b[2K     \u001b[90m━━━━━━━━━━━━━━━━━━━━━━━━━━━━━━━━━━━━━━━━\u001b[0m \u001b[32m58.3/58.3 kB\u001b[0m \u001b[31m6.8 MB/s\u001b[0m eta \u001b[36m0:00:00\u001b[0m\n",
            "\u001b[?25h"
          ]
        }
      ],
      "source": [
        "!pip install tzdata\n",
        "!pip install -qU semantic-router"
      ]
    },
    {
      "cell_type": "code",
      "source": [
        "from semantic_router import Route\n",
        "\n",
        "politics = Route(\n",
        "    name=\"politics\",\n",
        "    utterances=[\n",
        "        \"isn't politics the best thing ever\",\n",
        "        \"why don't you tell me about your political opinions\",\n",
        "        \"don't you just love the president\" \"don't you just hate the president\",\n",
        "        \"they're going to destroy this country!\",\n",
        "        \"they will save the country!\",\n",
        "    ],\n",
        ")\n",
        "chitchat = Route(\n",
        "    name=\"chitchat\",\n",
        "    utterances=[\n",
        "        \"how's the weather today?\",\n",
        "        \"how are things going?\",\n",
        "        \"lovely weather today\",\n",
        "        \"the weather is horrendous\",\n",
        "        \"let's go to the chippy\",\n",
        "    ],\n",
        ")\n",
        "\n",
        "routes = [politics, chitchat]"
      ],
      "metadata": {
        "id": "zi7_vvcdXAVr"
      },
      "execution_count": 2,
      "outputs": []
    },
    {
      "cell_type": "code",
      "source": [
        "import os\n",
        "from getpass import getpass\n",
        "from semantic_router import RouteLayer\n",
        "from semantic_router.encoders import CohereEncoder, OpenAIEncoder\n",
        "\n",
        "# dashboard.cohere.ai\n",
        "# os.environ[\"COHERE_API_KEY\"] = os.getenv(\"COHERE_API_KEY\") or getpass(\n",
        "#     \"Enter Cohere API Key: \"\n",
        "# )\n",
        "# platform.openai.com\n",
        "os.environ[\"OPENAI_API_KEY\"] = os.getenv(\"OPENAI_API_KEY\") or getpass(\n",
        "    \"Enter OpenAI API Key: \"\n",
        ")\n",
        "\n",
        "# encoder = CohereEncoder()\n",
        "encoder = OpenAIEncoder()\n",
        "\n",
        "rl = RouteLayer(encoder=encoder, routes=routes)"
      ],
      "metadata": {
        "colab": {
          "base_uri": "https://localhost:8080/"
        },
        "id": "Ol3LtqQXXGjy",
        "outputId": "92d3811c-b00f-4b93-b06a-a2a2dee649bb"
      },
      "execution_count": 3,
      "outputs": [
        {
          "name": "stdout",
          "output_type": "stream",
          "text": [
            "Enter OpenAI API Key: ··········\n"
          ]
        }
      ]
    },
    {
      "cell_type": "code",
      "source": [
        "rl(\"how's the weather today?\")\n"
      ],
      "metadata": {
        "colab": {
          "base_uri": "https://localhost:8080/"
        },
        "id": "PkJ-7gZBXaH5",
        "outputId": "2bf5a1fb-15c5-4b7d-e365-fc9c17f85fa0"
      },
      "execution_count": 4,
      "outputs": [
        {
          "output_type": "execute_result",
          "data": {
            "text/plain": [
              "RouteChoice(name='chitchat', function_call=None, similarity_score=None)"
            ]
          },
          "metadata": {},
          "execution_count": 4
        }
      ]
    },
    {
      "cell_type": "markdown",
      "source": [
        "# dynamic rule\n"
      ],
      "metadata": {
        "id": "WWNPg2gdXe3h"
      }
    },
    {
      "cell_type": "code",
      "source": [
        "from datetime import datetime\n",
        "from zoneinfo import ZoneInfo\n",
        "\n",
        "\n",
        "def get_time(timezone: str) -> str:\n",
        "    \"\"\"Finds the current time in a specific timezone.\n",
        "\n",
        "    :param timezone: The timezone to find the current time in, should\n",
        "        be a valid timezone from the IANA Time Zone Database like\n",
        "        \"America/New_York\" or \"Europe/London\". Do NOT put the place\n",
        "        name itself like \"rome\", or \"new york\", you must provide\n",
        "        the IANA format.\n",
        "    :type timezone: str\n",
        "    :return: The current time in the specified timezone.\"\"\"\n",
        "    now = datetime.now(ZoneInfo(timezone))\n",
        "    return now.strftime(\"%H:%M\")"
      ],
      "metadata": {
        "id": "x8FwX05zXgzZ"
      },
      "execution_count": 5,
      "outputs": []
    },
    {
      "cell_type": "code",
      "source": [
        "get_time(\"America/New_York\")\n"
      ],
      "metadata": {
        "id": "nMONadU-XjWB"
      },
      "execution_count": null,
      "outputs": []
    },
    {
      "cell_type": "code",
      "source": [
        "from semantic_router.llms.openai import get_schemas_openai\n",
        "\n",
        "schemas = get_schemas_openai([get_time])\n",
        "schemas"
      ],
      "metadata": {
        "colab": {
          "base_uri": "https://localhost:8080/"
        },
        "id": "gjLrt_fGXpFU",
        "outputId": "c1e31062-98c9-4f74-920f-8f7fcdbcedd4"
      },
      "execution_count": 8,
      "outputs": [
        {
          "output_type": "execute_result",
          "data": {
            "text/plain": [
              "[{'type': 'function',\n",
              "  'function': {'name': 'get_time',\n",
              "   'description': 'Finds the current time in a specific timezone.\\n\\n:param timezone: The timezone to find the current time in, should\\n    be a valid timezone from the IANA Time Zone Database like\\n    \"America/New_York\" or \"Europe/London\". Do NOT put the place\\n    name itself like \"rome\", or \"new york\", you must provide\\n    the IANA format.\\n:type timezone: str\\n:return: The current time in the specified timezone.',\n",
              "   'parameters': {'type': 'object',\n",
              "    'properties': {'timezone': {'type': 'string',\n",
              "      'description': 'The timezone to find the current time in, should\\n    be a valid timezone from the IANA Time Zone Database like\\n    \"America/New_York\" or \"Europe/London\". Do NOT put the place\\n    name itself like \"rome\", or \"new york\", you must provide\\n    the IANA format.'}},\n",
              "    'required': ['timezone']}}}]"
            ]
          },
          "metadata": {},
          "execution_count": 8
        }
      ]
    },
    {
      "cell_type": "code",
      "source": [
        "time_route = Route(\n",
        "    name=\"get_time\",\n",
        "    utterances=[\n",
        "        \"what is the time in new york city?\",\n",
        "        \"what is the time in london?\",\n",
        "        \"I live in Rome, what time is it?\",\n",
        "    ],\n",
        "    function_schemas=schemas,\n",
        ")"
      ],
      "metadata": {
        "id": "0IOxKSVhYVLg"
      },
      "execution_count": 12,
      "outputs": []
    },
    {
      "cell_type": "code",
      "source": [
        "time_route.llm\n"
      ],
      "metadata": {
        "id": "PFidMkJ8X_yA"
      },
      "execution_count": 13,
      "outputs": []
    },
    {
      "cell_type": "code",
      "source": [
        "rl.add(time_route)\n"
      ],
      "metadata": {
        "id": "lvk-P2NbYG-Q"
      },
      "execution_count": 14,
      "outputs": []
    },
    {
      "cell_type": "code",
      "source": [
        "time_route.llm\n"
      ],
      "metadata": {
        "id": "0YTG5xuPYdgP"
      },
      "execution_count": 15,
      "outputs": []
    },
    {
      "cell_type": "code",
      "source": [
        "response = rl(\"what is the time in new york city?\")\n",
        "response"
      ],
      "metadata": {
        "colab": {
          "base_uri": "https://localhost:8080/"
        },
        "id": "RD5PxnbrYgIl",
        "outputId": "b64218eb-5bfe-41e0-8322-a290578c2293"
      },
      "execution_count": 16,
      "outputs": [
        {
          "output_type": "stream",
          "name": "stderr",
          "text": [
            "WARNING:semantic_router.utils.logger:No LLM provided for dynamic route, will use OpenAI LLM default. Ensure API key is set in OPENAI_API_KEY environment variable.\n"
          ]
        },
        {
          "output_type": "execute_result",
          "data": {
            "text/plain": [
              "RouteChoice(name='get_time', function_call=[{'function_name': 'get_time', 'arguments': {'timezone': 'America/New_York'}}], similarity_score=None)"
            ]
          },
          "metadata": {},
          "execution_count": 16
        }
      ]
    },
    {
      "cell_type": "code",
      "source": [
        "print(response.function_call)\n"
      ],
      "metadata": {
        "colab": {
          "base_uri": "https://localhost:8080/"
        },
        "id": "_3tUGThGYlsd",
        "outputId": "593295d0-09a5-47f3-b11b-662819fb0fb8"
      },
      "execution_count": 17,
      "outputs": [
        {
          "output_type": "stream",
          "name": "stdout",
          "text": [
            "[{'function_name': 'get_time', 'arguments': {'timezone': 'America/New_York'}}]\n"
          ]
        }
      ]
    },
    {
      "cell_type": "code",
      "source": [
        "import json\n",
        "\n",
        "for call in response.function_call:\n",
        "    if call[\"function_name\"] == \"get_time\":\n",
        "        args = call[\"arguments\"]\n",
        "        result = get_time(**args)\n",
        "print(result)"
      ],
      "metadata": {
        "colab": {
          "base_uri": "https://localhost:8080/"
        },
        "id": "cKO0cqNfYoNN",
        "outputId": "68b8bd6b-b6fd-47fa-aee5-7f997b341a0f"
      },
      "execution_count": 18,
      "outputs": [
        {
          "output_type": "stream",
          "name": "stdout",
          "text": [
            "23:55\n"
          ]
        }
      ]
    },
    {
      "cell_type": "markdown",
      "source": [
        "## dynamic rules with multiple functions"
      ],
      "metadata": {
        "id": "Sb4wTJ6QYvaW"
      }
    },
    {
      "cell_type": "code",
      "source": [
        "from datetime import datetime, timedelta\n",
        "from zoneinfo import ZoneInfo\n",
        "\n",
        "\n",
        "# Function with one argument\n",
        "def get_time(timezone: str) -> str:\n",
        "    \"\"\"Finds the current time in a specific timezone.\n",
        "\n",
        "    :param timezone: The timezone to find the current time in, should\n",
        "        be a valid timezone from the IANA Time Zone Database like\n",
        "        \"America/New_York\" or \"Europe/London\". Do NOT put the place\n",
        "        name itself like \"rome\", or \"new york\", you must provide\n",
        "        the IANA format.\n",
        "    :type timezone: str\n",
        "    :return: The current time in the specified timezone.\"\"\"\n",
        "    now = datetime.now(ZoneInfo(timezone))\n",
        "    return now.strftime(\"%H:%M\")\n",
        "\n",
        "\n",
        "def get_time_difference(timezone1: str, timezone2: str) -> str:\n",
        "    \"\"\"Calculates the time difference between two timezones.\n",
        "    :param timezone1: The first timezone, should be a valid timezone from the IANA Time Zone Database like \"America/New_York\" or \"Europe/London\".\n",
        "    :param timezone2: The second timezone, should be a valid timezone from the IANA Time Zone Database like \"America/New_York\" or \"Europe/London\".\n",
        "    :type timezone1: str\n",
        "    :type timezone2: str\n",
        "    :return: The time difference in hours between the two timezones.\"\"\"\n",
        "    # Get the current time in UTC\n",
        "    now_utc = datetime.utcnow().replace(tzinfo=ZoneInfo(\"UTC\"))\n",
        "\n",
        "    # Convert the UTC time to the specified timezones\n",
        "    tz1_time = now_utc.astimezone(ZoneInfo(timezone1))\n",
        "    tz2_time = now_utc.astimezone(ZoneInfo(timezone2))\n",
        "\n",
        "    # Calculate the difference in offsets from UTC\n",
        "    tz1_offset = tz1_time.utcoffset().total_seconds()\n",
        "    tz2_offset = tz2_time.utcoffset().total_seconds()\n",
        "\n",
        "    # Calculate the difference in hours\n",
        "    hours_difference = (tz2_offset - tz1_offset) / 3600\n",
        "\n",
        "    return f\"The time difference between {timezone1} and {timezone2} is {hours_difference} hours.\"\n",
        "\n",
        "\n",
        "# Function with three arguments\n",
        "def convert_time(time: str, from_timezone: str, to_timezone: str) -> str:\n",
        "    \"\"\"Converts a specific time from one timezone to another.\n",
        "    :param time: The time to convert in HH:MM format.\n",
        "    :param from_timezone: The original timezone of the time, should be a valid IANA timezone.\n",
        "    :param to_timezone: The target timezone for the time, should be a valid IANA timezone.\n",
        "    :type time: str\n",
        "    :type from_timezone: str\n",
        "    :type to_timezone: str\n",
        "    :return: The converted time in the target timezone.\n",
        "    :raises ValueError: If the time format or timezone strings are invalid.\n",
        "\n",
        "    Example:\n",
        "        convert_time(\"12:30\", \"America/New_York\", \"Asia/Tokyo\") -> \"03:30\"\n",
        "    \"\"\"\n",
        "    try:\n",
        "        # Use today's date to avoid historical timezone issues\n",
        "        today = datetime.now().date()\n",
        "        datetime_string = f\"{today} {time}\"\n",
        "        time_obj = datetime.strptime(datetime_string, \"%Y-%m-%d %H:%M\").replace(\n",
        "            tzinfo=ZoneInfo(from_timezone)\n",
        "        )\n",
        "\n",
        "        converted_time = time_obj.astimezone(ZoneInfo(to_timezone))\n",
        "\n",
        "        formatted_time = converted_time.strftime(\"%H:%M\")\n",
        "        return formatted_time\n",
        "    except Exception as e:\n",
        "        raise ValueError(f\"Error converting time: {e}\")"
      ],
      "metadata": {
        "id": "6FTF2mOhYuxu"
      },
      "execution_count": 19,
      "outputs": []
    },
    {
      "cell_type": "code",
      "source": [
        "functions = [get_time, get_time_difference, convert_time]\n",
        "# Generate schemas for all functions\n",
        "from semantic_router.llms.openai import get_schemas_openai\n",
        "\n",
        "schemas = get_schemas_openai(functions)\n",
        "schemas"
      ],
      "metadata": {
        "colab": {
          "base_uri": "https://localhost:8080/"
        },
        "id": "cGRLMBdlY1av",
        "outputId": "c0dfbaa7-fb51-4d80-99d2-630667bf87a8"
      },
      "execution_count": 21,
      "outputs": [
        {
          "output_type": "execute_result",
          "data": {
            "text/plain": [
              "[{'type': 'function',\n",
              "  'function': {'name': 'get_time',\n",
              "   'description': 'Finds the current time in a specific timezone.\\n\\n:param timezone: The timezone to find the current time in, should\\n    be a valid timezone from the IANA Time Zone Database like\\n    \"America/New_York\" or \"Europe/London\". Do NOT put the place\\n    name itself like \"rome\", or \"new york\", you must provide\\n    the IANA format.\\n:type timezone: str\\n:return: The current time in the specified timezone.',\n",
              "   'parameters': {'type': 'object',\n",
              "    'properties': {'timezone': {'type': 'string',\n",
              "      'description': 'The timezone to find the current time in, should\\n    be a valid timezone from the IANA Time Zone Database like\\n    \"America/New_York\" or \"Europe/London\". Do NOT put the place\\n    name itself like \"rome\", or \"new york\", you must provide\\n    the IANA format.'}},\n",
              "    'required': ['timezone']}}},\n",
              " {'type': 'function',\n",
              "  'function': {'name': 'get_time_difference',\n",
              "   'description': 'Calculates the time difference between two timezones.\\n:param timezone1: The first timezone, should be a valid timezone from the IANA Time Zone Database like \"America/New_York\" or \"Europe/London\".\\n:param timezone2: The second timezone, should be a valid timezone from the IANA Time Zone Database like \"America/New_York\" or \"Europe/London\".\\n:type timezone1: str\\n:type timezone2: str\\n:return: The time difference in hours between the two timezones.',\n",
              "   'parameters': {'type': 'object',\n",
              "    'properties': {'timezone1': {'type': 'string',\n",
              "      'description': 'The first timezone, should be a valid timezone from the IANA Time Zone Database like \"America/New_York\" or \"Europe/London\".'},\n",
              "     'timezone2': {'type': 'string',\n",
              "      'description': 'The second timezone, should be a valid timezone from the IANA Time Zone Database like \"America/New_York\" or \"Europe/London\".'}},\n",
              "    'required': ['timezone1', 'timezone2']}}},\n",
              " {'type': 'function',\n",
              "  'function': {'name': 'convert_time',\n",
              "   'description': 'Converts a specific time from one timezone to another.\\n:param time: The time to convert in HH:MM format.\\n:param from_timezone: The original timezone of the time, should be a valid IANA timezone.\\n:param to_timezone: The target timezone for the time, should be a valid IANA timezone.\\n:type time: str\\n:type from_timezone: str\\n:type to_timezone: str\\n:return: The converted time in the target timezone.\\n:raises ValueError: If the time format or timezone strings are invalid.\\n\\nExample:\\n    convert_time(\"12:30\", \"America/New_York\", \"Asia/Tokyo\") -> \"03:30\"',\n",
              "   'parameters': {'type': 'object',\n",
              "    'properties': {'time': {'type': 'string',\n",
              "      'description': 'The time to convert in HH:MM format.'},\n",
              "     'from_timezone': {'type': 'string',\n",
              "      'description': 'The original timezone of the time, should be a valid IANA timezone.'},\n",
              "     'to_timezone': {'type': 'string',\n",
              "      'description': 'The target timezone for the time, should be a valid IANA timezone.'}},\n",
              "    'required': ['time', 'from_timezone', 'to_timezone']}}}]"
            ]
          },
          "metadata": {},
          "execution_count": 21
        }
      ]
    },
    {
      "cell_type": "code",
      "source": [
        "# Define the dynamic route with multiple functions\n",
        "multi_function_route = Route(\n",
        "    name=\"timezone_management\",\n",
        "    utterances=[\n",
        "        # Utterances for get_time function\n",
        "        \"what is the time in New York?\",\n",
        "        \"current time in Berlin?\",\n",
        "        \"tell me the time in Moscow right now\",\n",
        "        \"can you show me the current time in Tokyo?\",\n",
        "        \"please provide the current time in London\",\n",
        "        # Utterances for get_time_difference function\n",
        "        \"how many hours ahead is Tokyo from London?\",\n",
        "        \"time difference between Sydney and Cairo\",\n",
        "        \"what's the time gap between Los Angeles and New York?\",\n",
        "        \"how much time difference is there between Paris and Sydney?\",\n",
        "        \"calculate the time difference between Dubai and Toronto\",\n",
        "        # Utterances for convert_time function\n",
        "        \"convert 15:00 from New York time to Berlin time\",\n",
        "        \"change 09:00 from Paris time to Moscow time\",\n",
        "        \"adjust 20:00 from Rome time to London time\",\n",
        "        \"convert 12:00 from Madrid time to Chicago time\",\n",
        "        \"change 18:00 from Beijing time to Los Angeles time\"\n",
        "        # All three functions\n",
        "        \"What is the time in Seattle? What is the time difference between Mumbai and Tokyo? What is 5:53 Toronto time in Sydney time?\",\n",
        "    ],\n",
        "    function_schemas=schemas,\n",
        ")\n",
        "routes = [politics, chitchat, multi_function_route]\n",
        "rl2 = RouteLayer(encoder=encoder, routes=routes)\n"
      ],
      "metadata": {
        "id": "QOrj5VINY6Kd"
      },
      "execution_count": 22,
      "outputs": []
    },
    {
      "cell_type": "code",
      "source": [
        "def parse_response(response: str):\n",
        "\n",
        "    for call in response.function_call:\n",
        "        args = call[\"arguments\"]\n",
        "        if call[\"function_name\"] == \"get_time\":\n",
        "            result = get_time(**args)\n",
        "            print(result)\n",
        "        if call[\"function_name\"] == \"get_time_difference\":\n",
        "            result = get_time_difference(**args)\n",
        "            print(result)\n",
        "        if call[\"function_name\"] == \"convert_time\":\n",
        "            result = convert_time(**args)\n",
        "            print(result)"
      ],
      "metadata": {
        "id": "FEHdVnV7ZBng"
      },
      "execution_count": 23,
      "outputs": []
    },
    {
      "cell_type": "code",
      "source": [
        "response = rl2(\"What is your political leaning?\")\n",
        "response"
      ],
      "metadata": {
        "colab": {
          "base_uri": "https://localhost:8080/"
        },
        "id": "oYSjvPHdZEP1",
        "outputId": "2934a45e-90a8-4abb-dcf0-5bc3de9206e6"
      },
      "execution_count": 24,
      "outputs": [
        {
          "output_type": "execute_result",
          "data": {
            "text/plain": [
              "RouteChoice(name='politics', function_call=None, similarity_score=None)"
            ]
          },
          "metadata": {},
          "execution_count": 24
        }
      ]
    },
    {
      "cell_type": "code",
      "source": [
        "response = rl2(\"Hello bot, how are you today?\")\n",
        "response"
      ],
      "metadata": {
        "colab": {
          "base_uri": "https://localhost:8080/"
        },
        "id": "m1-GmBSYZIDG",
        "outputId": "f7647888-1b34-4543-f787-f08f78f37ce3"
      },
      "execution_count": 25,
      "outputs": [
        {
          "output_type": "execute_result",
          "data": {
            "text/plain": [
              "RouteChoice(name='chitchat', function_call=None, similarity_score=None)"
            ]
          },
          "metadata": {},
          "execution_count": 25
        }
      ]
    },
    {
      "cell_type": "code",
      "source": [
        "response = rl2(\"what is the time in New York?\")\n",
        "response"
      ],
      "metadata": {
        "colab": {
          "base_uri": "https://localhost:8080/"
        },
        "id": "tI40TKeEZLvk",
        "outputId": "d1b01e50-5e08-49aa-bc53-f9a08ce756c5"
      },
      "execution_count": 26,
      "outputs": [
        {
          "output_type": "stream",
          "name": "stderr",
          "text": [
            "WARNING:semantic_router.utils.logger:No LLM provided for dynamic route, will use OpenAI LLM default. Ensure API key is set in OPENAI_API_KEY environment variable.\n"
          ]
        },
        {
          "output_type": "execute_result",
          "data": {
            "text/plain": [
              "RouteChoice(name='timezone_management', function_call=[{'function_name': 'get_time', 'arguments': {'timezone': 'America/New_York'}}], similarity_score=None)"
            ]
          },
          "metadata": {},
          "execution_count": 26
        }
      ]
    },
    {
      "cell_type": "code",
      "source": [
        "parse_response(response)\n"
      ],
      "metadata": {
        "colab": {
          "base_uri": "https://localhost:8080/"
        },
        "id": "MJFXUal-ZQLk",
        "outputId": "7ab39a0e-6d4f-4403-ec92-77d3c5d5c77d"
      },
      "execution_count": 27,
      "outputs": [
        {
          "output_type": "stream",
          "name": "stdout",
          "text": [
            "23:58\n"
          ]
        }
      ]
    },
    {
      "cell_type": "code",
      "source": [
        "response = rl2(\"What is the time difference between Los Angeles and Istanbul?\")\n",
        "response"
      ],
      "metadata": {
        "colab": {
          "base_uri": "https://localhost:8080/"
        },
        "id": "fi_Dwp84ZU79",
        "outputId": "d2cc91dd-3f38-43ea-e967-85a10490fb14"
      },
      "execution_count": 28,
      "outputs": [
        {
          "output_type": "execute_result",
          "data": {
            "text/plain": [
              "RouteChoice(name='timezone_management', function_call=[{'function_name': 'get_time_difference', 'arguments': {'timezone1': 'America/Los_Angeles', 'timezone2': 'Europe/Istanbul'}}], similarity_score=None)"
            ]
          },
          "metadata": {},
          "execution_count": 28
        }
      ]
    },
    {
      "cell_type": "code",
      "source": [
        "parse_response(response)"
      ],
      "metadata": {
        "colab": {
          "base_uri": "https://localhost:8080/"
        },
        "id": "u2YPGkZFZaYE",
        "outputId": "369c0629-0cc6-40b9-8759-913514966492"
      },
      "execution_count": 29,
      "outputs": [
        {
          "output_type": "stream",
          "name": "stdout",
          "text": [
            "The time difference between America/Los_Angeles and Europe/Istanbul is 10.0 hours.\n"
          ]
        }
      ]
    },
    {
      "cell_type": "code",
      "source": [
        "response = rl2(\"What is 23:02 Dubai time in Tokyo time? Please and thank you.\")\n",
        "response"
      ],
      "metadata": {
        "colab": {
          "base_uri": "https://localhost:8080/"
        },
        "id": "bKxNFBrVZfgk",
        "outputId": "e0664cf7-508b-4a73-d056-8752fc3457c1"
      },
      "execution_count": 30,
      "outputs": [
        {
          "output_type": "execute_result",
          "data": {
            "text/plain": [
              "RouteChoice(name='timezone_management', function_call=[{'function_name': 'convert_time', 'arguments': {'time': '23:02', 'from_timezone': 'Asia/Dubai', 'to_timezone': 'Asia/Tokyo'}}], similarity_score=None)"
            ]
          },
          "metadata": {},
          "execution_count": 30
        }
      ]
    },
    {
      "cell_type": "code",
      "source": [
        "parse_response(response)\n"
      ],
      "metadata": {
        "colab": {
          "base_uri": "https://localhost:8080/"
        },
        "id": "SG56JhA0Zi4E",
        "outputId": "ccbbef88-bfab-4459-9888-f62fda93ce57"
      },
      "execution_count": 31,
      "outputs": [
        {
          "output_type": "stream",
          "name": "stdout",
          "text": [
            "04:02\n"
          ]
        }
      ]
    },
    {
      "cell_type": "code",
      "source": [
        "response = rl2(\n",
        "    \"\"\"\n",
        "    What is the time in Prague?\n",
        "    What is the time difference between Frankfurt and Beijing?\n",
        "    What is 5:53 Lisbon time in Bangkok time?\n",
        "\"\"\"\n",
        ")"
      ],
      "metadata": {
        "id": "cPwhL7zNZl3M"
      },
      "execution_count": 32,
      "outputs": []
    },
    {
      "cell_type": "code",
      "source": [
        "response"
      ],
      "metadata": {
        "colab": {
          "base_uri": "https://localhost:8080/"
        },
        "id": "mD6qwu9fZriM",
        "outputId": "e3ccbcde-1224-49ab-9f20-5cdbbad482eb"
      },
      "execution_count": 33,
      "outputs": [
        {
          "output_type": "execute_result",
          "data": {
            "text/plain": [
              "RouteChoice(name='timezone_management', function_call=[{'function_name': 'get_time', 'arguments': {'timezone': 'Europe/Prague'}}, {'function_name': 'get_time_difference', 'arguments': {'timezone1': 'Europe/Berlin', 'timezone2': 'Asia/Shanghai'}}, {'function_name': 'convert_time', 'arguments': {'time': '05:53', 'from_timezone': 'Europe/Lisbon', 'to_timezone': 'Asia/Bangkok'}}], similarity_score=None)"
            ]
          },
          "metadata": {},
          "execution_count": 33
        }
      ]
    },
    {
      "cell_type": "code",
      "source": [
        "parse_response(response)\n"
      ],
      "metadata": {
        "colab": {
          "base_uri": "https://localhost:8080/"
        },
        "id": "bP-o9hhnZtwz",
        "outputId": "c4f79168-d71d-426e-b82b-b8938059abf7"
      },
      "execution_count": 34,
      "outputs": [
        {
          "output_type": "stream",
          "name": "stdout",
          "text": [
            "06:00\n",
            "The time difference between Europe/Berlin and Asia/Shanghai is 6.0 hours.\n",
            "11:53\n"
          ]
        }
      ]
    },
    {
      "cell_type": "markdown",
      "source": [
        "# save & load json"
      ],
      "metadata": {
        "id": "SPatrq2YZ9EU"
      }
    },
    {
      "cell_type": "code",
      "source": [
        "rl.to_json(\"layer.json\")\n"
      ],
      "metadata": {
        "id": "9xKZEd0_Z8Vz"
      },
      "execution_count": 35,
      "outputs": []
    },
    {
      "cell_type": "code",
      "source": [
        "import json\n",
        "\n",
        "with open(\"layer.json\", \"r\") as f:\n",
        "    layer_json = json.load(f)\n",
        "\n",
        "print(layer_json)"
      ],
      "metadata": {
        "colab": {
          "base_uri": "https://localhost:8080/"
        },
        "id": "VF0BLEGYaFLa",
        "outputId": "3a4c9371-02dc-4cc3-d2db-e1cceb8e0497"
      },
      "execution_count": 36,
      "outputs": [
        {
          "output_type": "stream",
          "name": "stdout",
          "text": [
            "{'encoder_type': 'openai', 'encoder_name': 'text-embedding-ada-002', 'routes': [{'name': 'politics', 'utterances': [\"isn't politics the best thing ever\", \"why don't you tell me about your political opinions\", \"don't you just love the presidentdon't you just hate the president\", \"they're going to destroy this country!\", 'they will save the country!'], 'description': None, 'function_schemas': None, 'llm': None, 'score_threshold': 0.82}, {'name': 'chitchat', 'utterances': [\"how's the weather today?\", 'how are things going?', 'lovely weather today', 'the weather is horrendous', \"let's go to the chippy\"], 'description': None, 'function_schemas': None, 'llm': None, 'score_threshold': 0.82}, {'name': 'get_time', 'utterances': ['what is the time in new york city?', 'what is the time in london?', 'I live in Rome, what time is it?'], 'description': None, 'function_schemas': [{'type': 'function', 'function': {'name': 'get_time', 'description': 'Finds the current time in a specific timezone.\\n\\n:param timezone: The timezone to find the current time in, should\\n    be a valid timezone from the IANA Time Zone Database like\\n    \"America/New_York\" or \"Europe/London\". Do NOT put the place\\n    name itself like \"rome\", or \"new york\", you must provide\\n    the IANA format.\\n:type timezone: str\\n:return: The current time in the specified timezone.', 'parameters': {'type': 'object', 'properties': {'timezone': {'type': 'string', 'description': 'The timezone to find the current time in, should\\n    be a valid timezone from the IANA Time Zone Database like\\n    \"America/New_York\" or \"Europe/London\". Do NOT put the place\\n    name itself like \"rome\", or \"new york\", you must provide\\n    the IANA format.'}}, 'required': ['timezone']}}}], 'llm': {'module': 'semantic_router.llms.openai', 'class': 'OpenAILLM', 'model': 'gpt-3.5-turbo'}, 'score_threshold': 0.82}]}\n"
          ]
        }
      ]
    },
    {
      "cell_type": "code",
      "source": [
        "rl = RouteLayer.from_json(\"layer.json\")\n",
        "print(\n",
        "    f\"\"\"{rl.encoder.type=}\n",
        "{rl.encoder.name=}\n",
        "{rl.routes=}\"\"\"\n",
        ")"
      ],
      "metadata": {
        "colab": {
          "base_uri": "https://localhost:8080/"
        },
        "id": "LXsE_IoOaLkS",
        "outputId": "8bf669ee-c84c-4d92-c57f-275c3b5b5b06"
      },
      "execution_count": 37,
      "outputs": [
        {
          "output_type": "stream",
          "name": "stdout",
          "text": [
            "rl.encoder.type='openai'\n",
            "rl.encoder.name='text-embedding-ada-002'\n",
            "rl.routes=[Route(name='politics', utterances=[\"isn't politics the best thing ever\", \"why don't you tell me about your political opinions\", \"don't you just love the presidentdon't you just hate the president\", \"they're going to destroy this country!\", 'they will save the country!'], description=None, function_schemas=None, llm=None, score_threshold=0.82), Route(name='chitchat', utterances=[\"how's the weather today?\", 'how are things going?', 'lovely weather today', 'the weather is horrendous', \"let's go to the chippy\"], description=None, function_schemas=None, llm=None, score_threshold=0.82), Route(name='get_time', utterances=['what is the time in new york city?', 'what is the time in london?', 'I live in Rome, what time is it?'], description=None, function_schemas=[{'type': 'function', 'function': {'name': 'get_time', 'description': 'Finds the current time in a specific timezone.\\n\\n:param timezone: The timezone to find the current time in, should\\n    be a valid timezone from the IANA Time Zone Database like\\n    \"America/New_York\" or \"Europe/London\". Do NOT put the place\\n    name itself like \"rome\", or \"new york\", you must provide\\n    the IANA format.\\n:type timezone: str\\n:return: The current time in the specified timezone.', 'parameters': {'type': 'object', 'properties': {'timezone': {'type': 'string', 'description': 'The timezone to find the current time in, should\\n    be a valid timezone from the IANA Time Zone Database like\\n    \"America/New_York\" or \"Europe/London\". Do NOT put the place\\n    name itself like \"rome\", or \"new york\", you must provide\\n    the IANA format.'}}, 'required': ['timezone']}}}], llm=OpenAILLM(name='gpt-3.5-turbo', client=<openai.OpenAI object at 0x7cfe41f71ff0>, temperature=0.01, max_tokens=200), score_threshold=0.82)]\n"
          ]
        }
      ]
    },
    {
      "cell_type": "code",
      "source": [
        "rl(\"isn't politics the best thing ever\")\n"
      ],
      "metadata": {
        "colab": {
          "base_uri": "https://localhost:8080/"
        },
        "id": "WdIYi2MZaRtl",
        "outputId": "4e9f95a1-95a3-4b7a-c639-5f79a1f71de3"
      },
      "execution_count": 38,
      "outputs": [
        {
          "output_type": "execute_result",
          "data": {
            "text/plain": [
              "RouteChoice(name='politics', function_call=None, similarity_score=None)"
            ]
          },
          "metadata": {},
          "execution_count": 38
        }
      ]
    }
  ]
}