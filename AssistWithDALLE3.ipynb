{
  "nbformat": 4,
  "nbformat_minor": 0,
  "metadata": {
    "colab": {
      "provenance": [],
      "authorship_tag": "ABX9TyPE+32wnmpdy+44OCjeX51n",
      "include_colab_link": true
    },
    "kernelspec": {
      "name": "python3",
      "display_name": "Python 3"
    },
    "language_info": {
      "name": "python"
    }
  },
  "cells": [
    {
      "cell_type": "markdown",
      "metadata": {
        "id": "view-in-github",
        "colab_type": "text"
      },
      "source": [
        "<a href=\"https://colab.research.google.com/github/changedi/DPpro/blob/master/AssistWithDALLE3.ipynb\" target=\"_parent\"><img src=\"https://colab.research.google.com/assets/colab-badge.svg\" alt=\"Open In Colab\"/></a>"
      ]
    },
    {
      "cell_type": "code",
      "source": [
        "!pip install openai\n",
        "!pip install python-dotenv"
      ],
      "metadata": {
        "colab": {
          "base_uri": "https://localhost:8080/"
        },
        "id": "geqJYLMv5_Zj",
        "outputId": "9f667539-d3f7-4284-e3a9-e80e464ea90b"
      },
      "execution_count": 1,
      "outputs": [
        {
          "output_type": "stream",
          "name": "stdout",
          "text": [
            "Collecting openai\n",
            "  Downloading openai-1.5.0-py3-none-any.whl (223 kB)\n",
            "\u001b[2K     \u001b[90m━━━━━━━━━━━━━━━━━━━━━━━━━━━━━━━━━━━━━━━━\u001b[0m \u001b[32m223.7/223.7 kB\u001b[0m \u001b[31m2.5 MB/s\u001b[0m eta \u001b[36m0:00:00\u001b[0m\n",
            "\u001b[?25hRequirement already satisfied: anyio<5,>=3.5.0 in /usr/local/lib/python3.10/dist-packages (from openai) (3.7.1)\n",
            "Requirement already satisfied: distro<2,>=1.7.0 in /usr/lib/python3/dist-packages (from openai) (1.7.0)\n",
            "Collecting httpx<1,>=0.23.0 (from openai)\n",
            "  Downloading httpx-0.25.2-py3-none-any.whl (74 kB)\n",
            "\u001b[2K     \u001b[90m━━━━━━━━━━━━━━━━━━━━━━━━━━━━━━━━━━━━━━━━\u001b[0m \u001b[32m75.0/75.0 kB\u001b[0m \u001b[31m4.2 MB/s\u001b[0m eta \u001b[36m0:00:00\u001b[0m\n",
            "\u001b[?25hRequirement already satisfied: pydantic<3,>=1.9.0 in /usr/local/lib/python3.10/dist-packages (from openai) (1.10.13)\n",
            "Requirement already satisfied: sniffio in /usr/local/lib/python3.10/dist-packages (from openai) (1.3.0)\n",
            "Requirement already satisfied: tqdm>4 in /usr/local/lib/python3.10/dist-packages (from openai) (4.66.1)\n",
            "Requirement already satisfied: typing-extensions<5,>=4.5 in /usr/local/lib/python3.10/dist-packages (from openai) (4.5.0)\n",
            "Requirement already satisfied: idna>=2.8 in /usr/local/lib/python3.10/dist-packages (from anyio<5,>=3.5.0->openai) (3.6)\n",
            "Requirement already satisfied: exceptiongroup in /usr/local/lib/python3.10/dist-packages (from anyio<5,>=3.5.0->openai) (1.2.0)\n",
            "Requirement already satisfied: certifi in /usr/local/lib/python3.10/dist-packages (from httpx<1,>=0.23.0->openai) (2023.11.17)\n",
            "Collecting httpcore==1.* (from httpx<1,>=0.23.0->openai)\n",
            "  Downloading httpcore-1.0.2-py3-none-any.whl (76 kB)\n",
            "\u001b[2K     \u001b[90m━━━━━━━━━━━━━━━━━━━━━━━━━━━━━━━━━━━━━━━━\u001b[0m \u001b[32m76.9/76.9 kB\u001b[0m \u001b[31m7.4 MB/s\u001b[0m eta \u001b[36m0:00:00\u001b[0m\n",
            "\u001b[?25hCollecting h11<0.15,>=0.13 (from httpcore==1.*->httpx<1,>=0.23.0->openai)\n",
            "  Downloading h11-0.14.0-py3-none-any.whl (58 kB)\n",
            "\u001b[2K     \u001b[90m━━━━━━━━━━━━━━━━━━━━━━━━━━━━━━━━━━━━━━━━\u001b[0m \u001b[32m58.3/58.3 kB\u001b[0m \u001b[31m5.6 MB/s\u001b[0m eta \u001b[36m0:00:00\u001b[0m\n",
            "\u001b[?25hInstalling collected packages: h11, httpcore, httpx, openai\n",
            "\u001b[31mERROR: pip's dependency resolver does not currently take into account all the packages that are installed. This behaviour is the source of the following dependency conflicts.\n",
            "llmx 0.0.15a0 requires cohere, which is not installed.\n",
            "llmx 0.0.15a0 requires tiktoken, which is not installed.\u001b[0m\u001b[31m\n",
            "\u001b[0mSuccessfully installed h11-0.14.0 httpcore-1.0.2 httpx-0.25.2 openai-1.5.0\n",
            "Collecting python-dotenv\n",
            "  Downloading python_dotenv-1.0.0-py3-none-any.whl (19 kB)\n",
            "Installing collected packages: python-dotenv\n",
            "Successfully installed python-dotenv-1.0.0\n"
          ]
        }
      ]
    },
    {
      "cell_type": "code",
      "source": [
        "from dotenv import load_dotenv\n",
        "import os\n",
        "\n",
        "load_dotenv()\n",
        "\n",
        "os.environ[\"OPENAI_API_KEY\"] = os.getenv(\"OPENAI_API_KEY\")"
      ],
      "metadata": {
        "id": "L_cvCQjy6F-w"
      },
      "execution_count": 2,
      "outputs": []
    },
    {
      "cell_type": "markdown",
      "source": [
        "## 0. Setup"
      ],
      "metadata": {
        "id": "JqT5Hc-pANiv"
      }
    },
    {
      "cell_type": "code",
      "execution_count": 3,
      "metadata": {
        "id": "UWba1-SM52Vr"
      },
      "outputs": [],
      "source": [
        "from IPython.display import display, Image\n",
        "from openai import OpenAI\n",
        "import pandas as pd\n",
        "import json\n",
        "import io\n",
        "from PIL import Image\n",
        "import requests\n",
        "\n",
        "client = OpenAI()\n",
        "\n",
        "#Lets import some helper functions for assistants from https://cookbook.openai.com/examples/assistants_api_overview_python\n",
        "def show_json(obj):\n",
        "    display(json.loads(obj.model_dump_json()))\n",
        "\n",
        "def submit_message(assistant_id, thread, user_message,file_ids=None):\n",
        "    params = {\n",
        "        'thread_id': thread.id,\n",
        "        'role': 'user',\n",
        "        'content': user_message,\n",
        "    }\n",
        "    if file_ids:\n",
        "        params['file_ids']=file_ids\n",
        "\n",
        "    client.beta.threads.messages.create(\n",
        "        **params\n",
        ")\n",
        "    return client.beta.threads.runs.create(\n",
        "    thread_id=thread.id,\n",
        "    assistant_id=assistant_id,\n",
        ")\n",
        "\n",
        "def get_response(thread):\n",
        "    return client.beta.threads.messages.list(thread_id=thread.id)"
      ]
    },
    {
      "cell_type": "markdown",
      "source": [
        "## 1. Creating the content"
      ],
      "metadata": {
        "id": "PxydtOa7AQ7X"
      }
    },
    {
      "cell_type": "code",
      "source": [
        "financial_data_path = 'data/NotRealCorp_financial_data.json'\n",
        "financial_data = pd.read_json(financial_data_path)\n",
        "financial_data.head(5)"
      ],
      "metadata": {
        "colab": {
          "base_uri": "https://localhost:8080/",
          "height": 206
        },
        "id": "xOzRY6y_6b33",
        "outputId": "7733a196-0c18-4593-e4c4-7f237bdf3eca"
      },
      "execution_count": 4,
      "outputs": [
        {
          "output_type": "execute_result",
          "data": {
            "text/plain": [
              "   Year Quarter Distribution channel  Revenue ($M)  Costs ($M)  \\\n",
              "0  2021      Q1         Online Sales          1.50    1.301953   \n",
              "1  2021      Q1         Direct Sales          1.50    1.380809   \n",
              "2  2021      Q1      Retail Partners          1.50    1.348246   \n",
              "3  2021      Q2         Online Sales          1.52    1.308608   \n",
              "4  2021      Q2         Direct Sales          1.52    1.413305   \n",
              "\n",
              "   Customer count     Time  \n",
              "0             150  2021 Q1  \n",
              "1             151  2021 Q1  \n",
              "2             152  2021 Q1  \n",
              "3             152  2021 Q2  \n",
              "4             153  2021 Q2  "
            ],
            "text/html": [
              "\n",
              "  <div id=\"df-55e9e6bf-988c-4dba-94c2-555fbd3f92cc\" class=\"colab-df-container\">\n",
              "    <div>\n",
              "<style scoped>\n",
              "    .dataframe tbody tr th:only-of-type {\n",
              "        vertical-align: middle;\n",
              "    }\n",
              "\n",
              "    .dataframe tbody tr th {\n",
              "        vertical-align: top;\n",
              "    }\n",
              "\n",
              "    .dataframe thead th {\n",
              "        text-align: right;\n",
              "    }\n",
              "</style>\n",
              "<table border=\"1\" class=\"dataframe\">\n",
              "  <thead>\n",
              "    <tr style=\"text-align: right;\">\n",
              "      <th></th>\n",
              "      <th>Year</th>\n",
              "      <th>Quarter</th>\n",
              "      <th>Distribution channel</th>\n",
              "      <th>Revenue ($M)</th>\n",
              "      <th>Costs ($M)</th>\n",
              "      <th>Customer count</th>\n",
              "      <th>Time</th>\n",
              "    </tr>\n",
              "  </thead>\n",
              "  <tbody>\n",
              "    <tr>\n",
              "      <th>0</th>\n",
              "      <td>2021</td>\n",
              "      <td>Q1</td>\n",
              "      <td>Online Sales</td>\n",
              "      <td>1.50</td>\n",
              "      <td>1.301953</td>\n",
              "      <td>150</td>\n",
              "      <td>2021 Q1</td>\n",
              "    </tr>\n",
              "    <tr>\n",
              "      <th>1</th>\n",
              "      <td>2021</td>\n",
              "      <td>Q1</td>\n",
              "      <td>Direct Sales</td>\n",
              "      <td>1.50</td>\n",
              "      <td>1.380809</td>\n",
              "      <td>151</td>\n",
              "      <td>2021 Q1</td>\n",
              "    </tr>\n",
              "    <tr>\n",
              "      <th>2</th>\n",
              "      <td>2021</td>\n",
              "      <td>Q1</td>\n",
              "      <td>Retail Partners</td>\n",
              "      <td>1.50</td>\n",
              "      <td>1.348246</td>\n",
              "      <td>152</td>\n",
              "      <td>2021 Q1</td>\n",
              "    </tr>\n",
              "    <tr>\n",
              "      <th>3</th>\n",
              "      <td>2021</td>\n",
              "      <td>Q2</td>\n",
              "      <td>Online Sales</td>\n",
              "      <td>1.52</td>\n",
              "      <td>1.308608</td>\n",
              "      <td>152</td>\n",
              "      <td>2021 Q2</td>\n",
              "    </tr>\n",
              "    <tr>\n",
              "      <th>4</th>\n",
              "      <td>2021</td>\n",
              "      <td>Q2</td>\n",
              "      <td>Direct Sales</td>\n",
              "      <td>1.52</td>\n",
              "      <td>1.413305</td>\n",
              "      <td>153</td>\n",
              "      <td>2021 Q2</td>\n",
              "    </tr>\n",
              "  </tbody>\n",
              "</table>\n",
              "</div>\n",
              "    <div class=\"colab-df-buttons\">\n",
              "\n",
              "  <div class=\"colab-df-container\">\n",
              "    <button class=\"colab-df-convert\" onclick=\"convertToInteractive('df-55e9e6bf-988c-4dba-94c2-555fbd3f92cc')\"\n",
              "            title=\"Convert this dataframe to an interactive table.\"\n",
              "            style=\"display:none;\">\n",
              "\n",
              "  <svg xmlns=\"http://www.w3.org/2000/svg\" height=\"24px\" viewBox=\"0 -960 960 960\">\n",
              "    <path d=\"M120-120v-720h720v720H120Zm60-500h600v-160H180v160Zm220 220h160v-160H400v160Zm0 220h160v-160H400v160ZM180-400h160v-160H180v160Zm440 0h160v-160H620v160ZM180-180h160v-160H180v160Zm440 0h160v-160H620v160Z\"/>\n",
              "  </svg>\n",
              "    </button>\n",
              "\n",
              "  <style>\n",
              "    .colab-df-container {\n",
              "      display:flex;\n",
              "      gap: 12px;\n",
              "    }\n",
              "\n",
              "    .colab-df-convert {\n",
              "      background-color: #E8F0FE;\n",
              "      border: none;\n",
              "      border-radius: 50%;\n",
              "      cursor: pointer;\n",
              "      display: none;\n",
              "      fill: #1967D2;\n",
              "      height: 32px;\n",
              "      padding: 0 0 0 0;\n",
              "      width: 32px;\n",
              "    }\n",
              "\n",
              "    .colab-df-convert:hover {\n",
              "      background-color: #E2EBFA;\n",
              "      box-shadow: 0px 1px 2px rgba(60, 64, 67, 0.3), 0px 1px 3px 1px rgba(60, 64, 67, 0.15);\n",
              "      fill: #174EA6;\n",
              "    }\n",
              "\n",
              "    .colab-df-buttons div {\n",
              "      margin-bottom: 4px;\n",
              "    }\n",
              "\n",
              "    [theme=dark] .colab-df-convert {\n",
              "      background-color: #3B4455;\n",
              "      fill: #D2E3FC;\n",
              "    }\n",
              "\n",
              "    [theme=dark] .colab-df-convert:hover {\n",
              "      background-color: #434B5C;\n",
              "      box-shadow: 0px 1px 3px 1px rgba(0, 0, 0, 0.15);\n",
              "      filter: drop-shadow(0px 1px 2px rgba(0, 0, 0, 0.3));\n",
              "      fill: #FFFFFF;\n",
              "    }\n",
              "  </style>\n",
              "\n",
              "    <script>\n",
              "      const buttonEl =\n",
              "        document.querySelector('#df-55e9e6bf-988c-4dba-94c2-555fbd3f92cc button.colab-df-convert');\n",
              "      buttonEl.style.display =\n",
              "        google.colab.kernel.accessAllowed ? 'block' : 'none';\n",
              "\n",
              "      async function convertToInteractive(key) {\n",
              "        const element = document.querySelector('#df-55e9e6bf-988c-4dba-94c2-555fbd3f92cc');\n",
              "        const dataTable =\n",
              "          await google.colab.kernel.invokeFunction('convertToInteractive',\n",
              "                                                    [key], {});\n",
              "        if (!dataTable) return;\n",
              "\n",
              "        const docLinkHtml = 'Like what you see? Visit the ' +\n",
              "          '<a target=\"_blank\" href=https://colab.research.google.com/notebooks/data_table.ipynb>data table notebook</a>'\n",
              "          + ' to learn more about interactive tables.';\n",
              "        element.innerHTML = '';\n",
              "        dataTable['output_type'] = 'display_data';\n",
              "        await google.colab.output.renderOutput(dataTable, element);\n",
              "        const docLink = document.createElement('div');\n",
              "        docLink.innerHTML = docLinkHtml;\n",
              "        element.appendChild(docLink);\n",
              "      }\n",
              "    </script>\n",
              "  </div>\n",
              "\n",
              "\n",
              "<div id=\"df-1563b8e1-6161-42a0-889b-812839910a8a\">\n",
              "  <button class=\"colab-df-quickchart\" onclick=\"quickchart('df-1563b8e1-6161-42a0-889b-812839910a8a')\"\n",
              "            title=\"Suggest charts\"\n",
              "            style=\"display:none;\">\n",
              "\n",
              "<svg xmlns=\"http://www.w3.org/2000/svg\" height=\"24px\"viewBox=\"0 0 24 24\"\n",
              "     width=\"24px\">\n",
              "    <g>\n",
              "        <path d=\"M19 3H5c-1.1 0-2 .9-2 2v14c0 1.1.9 2 2 2h14c1.1 0 2-.9 2-2V5c0-1.1-.9-2-2-2zM9 17H7v-7h2v7zm4 0h-2V7h2v10zm4 0h-2v-4h2v4z\"/>\n",
              "    </g>\n",
              "</svg>\n",
              "  </button>\n",
              "\n",
              "<style>\n",
              "  .colab-df-quickchart {\n",
              "      --bg-color: #E8F0FE;\n",
              "      --fill-color: #1967D2;\n",
              "      --hover-bg-color: #E2EBFA;\n",
              "      --hover-fill-color: #174EA6;\n",
              "      --disabled-fill-color: #AAA;\n",
              "      --disabled-bg-color: #DDD;\n",
              "  }\n",
              "\n",
              "  [theme=dark] .colab-df-quickchart {\n",
              "      --bg-color: #3B4455;\n",
              "      --fill-color: #D2E3FC;\n",
              "      --hover-bg-color: #434B5C;\n",
              "      --hover-fill-color: #FFFFFF;\n",
              "      --disabled-bg-color: #3B4455;\n",
              "      --disabled-fill-color: #666;\n",
              "  }\n",
              "\n",
              "  .colab-df-quickchart {\n",
              "    background-color: var(--bg-color);\n",
              "    border: none;\n",
              "    border-radius: 50%;\n",
              "    cursor: pointer;\n",
              "    display: none;\n",
              "    fill: var(--fill-color);\n",
              "    height: 32px;\n",
              "    padding: 0;\n",
              "    width: 32px;\n",
              "  }\n",
              "\n",
              "  .colab-df-quickchart:hover {\n",
              "    background-color: var(--hover-bg-color);\n",
              "    box-shadow: 0 1px 2px rgba(60, 64, 67, 0.3), 0 1px 3px 1px rgba(60, 64, 67, 0.15);\n",
              "    fill: var(--button-hover-fill-color);\n",
              "  }\n",
              "\n",
              "  .colab-df-quickchart-complete:disabled,\n",
              "  .colab-df-quickchart-complete:disabled:hover {\n",
              "    background-color: var(--disabled-bg-color);\n",
              "    fill: var(--disabled-fill-color);\n",
              "    box-shadow: none;\n",
              "  }\n",
              "\n",
              "  .colab-df-spinner {\n",
              "    border: 2px solid var(--fill-color);\n",
              "    border-color: transparent;\n",
              "    border-bottom-color: var(--fill-color);\n",
              "    animation:\n",
              "      spin 1s steps(1) infinite;\n",
              "  }\n",
              "\n",
              "  @keyframes spin {\n",
              "    0% {\n",
              "      border-color: transparent;\n",
              "      border-bottom-color: var(--fill-color);\n",
              "      border-left-color: var(--fill-color);\n",
              "    }\n",
              "    20% {\n",
              "      border-color: transparent;\n",
              "      border-left-color: var(--fill-color);\n",
              "      border-top-color: var(--fill-color);\n",
              "    }\n",
              "    30% {\n",
              "      border-color: transparent;\n",
              "      border-left-color: var(--fill-color);\n",
              "      border-top-color: var(--fill-color);\n",
              "      border-right-color: var(--fill-color);\n",
              "    }\n",
              "    40% {\n",
              "      border-color: transparent;\n",
              "      border-right-color: var(--fill-color);\n",
              "      border-top-color: var(--fill-color);\n",
              "    }\n",
              "    60% {\n",
              "      border-color: transparent;\n",
              "      border-right-color: var(--fill-color);\n",
              "    }\n",
              "    80% {\n",
              "      border-color: transparent;\n",
              "      border-right-color: var(--fill-color);\n",
              "      border-bottom-color: var(--fill-color);\n",
              "    }\n",
              "    90% {\n",
              "      border-color: transparent;\n",
              "      border-bottom-color: var(--fill-color);\n",
              "    }\n",
              "  }\n",
              "</style>\n",
              "\n",
              "  <script>\n",
              "    async function quickchart(key) {\n",
              "      const quickchartButtonEl =\n",
              "        document.querySelector('#' + key + ' button');\n",
              "      quickchartButtonEl.disabled = true;  // To prevent multiple clicks.\n",
              "      quickchartButtonEl.classList.add('colab-df-spinner');\n",
              "      try {\n",
              "        const charts = await google.colab.kernel.invokeFunction(\n",
              "            'suggestCharts', [key], {});\n",
              "      } catch (error) {\n",
              "        console.error('Error during call to suggestCharts:', error);\n",
              "      }\n",
              "      quickchartButtonEl.classList.remove('colab-df-spinner');\n",
              "      quickchartButtonEl.classList.add('colab-df-quickchart-complete');\n",
              "    }\n",
              "    (() => {\n",
              "      let quickchartButtonEl =\n",
              "        document.querySelector('#df-1563b8e1-6161-42a0-889b-812839910a8a button');\n",
              "      quickchartButtonEl.style.display =\n",
              "        google.colab.kernel.accessAllowed ? 'block' : 'none';\n",
              "    })();\n",
              "  </script>\n",
              "</div>\n",
              "    </div>\n",
              "  </div>\n"
            ]
          },
          "metadata": {},
          "execution_count": 4
        }
      ]
    },
    {
      "cell_type": "code",
      "source": [
        "file = client.files.create(\n",
        "  file=open('data/NotRealCorp_financial_data.json',\"rb\"),\n",
        "  purpose='assistants',\n",
        ")"
      ],
      "metadata": {
        "id": "wRAiZQEB6q7E"
      },
      "execution_count": 5,
      "outputs": []
    },
    {
      "cell_type": "code",
      "source": [
        "assistant = client.beta.assistants.create(\n",
        "  instructions=\"You are a data scientist assistant. When given data and a query, write the proper code and create the proper visualization\",\n",
        "  model=\"gpt-4-1106-preview\",\n",
        "  tools=[{\"type\": \"code_interpreter\"}],\n",
        "  file_ids=[file.id]\n",
        ")"
      ],
      "metadata": {
        "id": "GI7CmvMd6y2J"
      },
      "execution_count": 6,
      "outputs": []
    },
    {
      "cell_type": "code",
      "source": [
        "thread = client.beta.threads.create(\n",
        "  messages=[\n",
        "    {\n",
        "      \"role\": \"user\",\n",
        "      \"content\": \"Calculate profit (revenue minus cost) by quarter and year, and visualize as a line plot across the distribution channels, where the colors of the lines are green, light red, and light blue\",\n",
        "      \"file_ids\": [file.id]\n",
        "    }\n",
        "  ]\n",
        ")"
      ],
      "metadata": {
        "id": "ua5jzPqE62Y5"
      },
      "execution_count": 7,
      "outputs": []
    },
    {
      "cell_type": "code",
      "source": [
        "run = client.beta.threads.runs.create(\n",
        "    thread_id=thread.id,\n",
        "    assistant_id=assistant.id,\n",
        ")"
      ],
      "metadata": {
        "id": "dG8InDD865ua"
      },
      "execution_count": 8,
      "outputs": []
    },
    {
      "cell_type": "code",
      "source": [
        "messages = client.beta.threads.messages.list(thread_id=thread.id)\n"
      ],
      "metadata": {
        "id": "jlLjLcIM69sC"
      },
      "execution_count": 9,
      "outputs": []
    },
    {
      "cell_type": "code",
      "source": [
        "import time\n",
        "\n",
        "while True:\n",
        "    messages = client.beta.threads.messages.list(thread_id=thread.id)\n",
        "    try:\n",
        "        #See if image has been created\n",
        "        messages.data[0].content[0].image_file\n",
        "        #Sleep to make sure run has completed\n",
        "        time.sleep(5)\n",
        "        print('Plot created!')\n",
        "        break\n",
        "    except:\n",
        "        time.sleep(10)\n",
        "        print('Assistant still working...')"
      ],
      "metadata": {
        "colab": {
          "base_uri": "https://localhost:8080/"
        },
        "id": "Z34v7PzA7BPH",
        "outputId": "db4597e5-e3b0-4a19-88cf-4736a532e3f9"
      },
      "execution_count": 10,
      "outputs": [
        {
          "output_type": "stream",
          "name": "stdout",
          "text": [
            "Assistant still working...\n",
            "Assistant still working...\n",
            "Assistant still working...\n",
            "Assistant still working...\n",
            "Assistant still working...\n",
            "Assistant still working...\n",
            "Assistant still working...\n",
            "Assistant still working...\n",
            "Assistant still working...\n",
            "Assistant still working...\n",
            "Assistant still working...\n",
            "Assistant still working...\n",
            "Assistant still working...\n",
            "Assistant still working...\n",
            "Plot created!\n"
          ]
        }
      ]
    },
    {
      "cell_type": "code",
      "source": [
        "messages = client.beta.threads.messages.list(thread_id=thread.id)\n",
        "[message.content[0] for message in messages.data]"
      ],
      "metadata": {
        "colab": {
          "base_uri": "https://localhost:8080/"
        },
        "id": "Di6Gej-x-bPe",
        "outputId": "d0a13236-2df3-40d6-dae2-139935a87c1a"
      },
      "execution_count": 11,
      "outputs": [
        {
          "output_type": "execute_result",
          "data": {
            "text/plain": [
              "[MessageContentImageFile(image_file=ImageFile(file_id='file-xIVggiSGg4hw2D6ou55gUePS'), type='image_file'),\n",
              " MessageContentText(text=Text(annotations=[], value=\"We have calculated the profit (in millions of dollars) by quarter and year for each distribution channel. The next step is to visualize this data as a line plot across the different distribution channels, with each line being colored green, light red, and light blue. Since there are three distribution channels, we'll assign each color to a respective channel systematically.\\n\\nLet's create the line plot now.\"), type='text'),\n",
              " MessageContentText(text=Text(annotations=[], value='We now have a DataFrame with the \"Year\", \"Quarter\", \"Distribution channel\", \"Revenue ($M)\", and \"Costs ($M)\" columns. The next step is to calculate the profit for each record by subtracting \"Costs ($M)\" from \"Revenue ($M)\". After obtaining the profit, we need to visualize the profit by quarter and year across the distribution channels as a line plot with specified colors for each channel. Let\\'s proceed with these steps.'), type='text'),\n",
              " MessageContentText(text=Text(annotations=[], value='The correct keys for \"Cost\" and \"Revenue\" in the JSON data are listed as \"Revenue ($M)\" and \"Costs ($M)\" respectively. Now that we\\'ve identified the correct keys, let\\'s extract the data for these keys along with the already identified keys for \"Year\", \"Quarter\", and \"Distribution channel\". Then, we will construct a DataFrame with all the relevant data.'), type='text'),\n",
              " MessageContentText(text=Text(annotations=[], value='We have successfully extracted data for \"Year\", \"Quarter\", and \"Distribution channel\" keys. However, it appears that the \"Cost\" and \"Revenue\" keys are empty, suggesting either that the data under these keys is stored differently or missing from the JSON structure I\\'ve attempted to parse.\\n\\nIn order to construct the DataFrame for further analysis, we require these financial figures. I\\'ll proceed by checking the JSON object for nested structures that may contain \"Cost\" and \"Revenue\" data. If they\\'re stored under different keys or nested within another object, we\\'ll need to adapt our extraction logic accordingly. Let\\'s explore the JSON object structure further to find this data.'), type='text'),\n",
              " MessageContentText(text=Text(annotations=[], value='The contents of the file did not load correctly into a structured DataFrame, as the keys and indices are spread across different columns. This suggests that the structure of the data within the file might be more complex than initially anticipated. It seems that the file might contain multiple levels of nested JSON objects or arrays.\\n\\nGiven the complexity of the data structure, I will attempt a different strategy to process this JSON content. I\\'ll try to manually extract relevant keys that represent the main data points like \"Year\", \"Quarter\", \"Distribution channel\", \"Cost\", and \"Revenue\" and then construct the DataFrame correctly. Let\\'s identify these keys and proceed with the extraction.'), type='text'),\n",
              " MessageContentText(text=Text(annotations=[], value=\"It seems that I cannot directly print out a large part of the JSON-looking data from the CSV column heading. The initial attempt to parse the JSON failed. I will try a different approach to load the data by treating it as a JSON file instead of a CSV. Let's load the contents of the file as a JSON string and then parse it correctly into a DataFrame.\"), type='text'),\n",
              " MessageContentText(text=Text(annotations=[], value=\"It seems there was an error in decoding the JSON data due to a misplaced comma delimiter within the string. This suggests that the JSON string might not be well-formed or could be more complex than initially thought.\\n\\nTo overcome this, I'll examine the string in more detail to find the correct way to parse it. Let's start by looking at the beginning of the string to identify the problem and correct it.\"), type='text'),\n",
              " MessageContentText(text=Text(annotations=[], value=\"It appears that there was an issue with the data loading process, resulting in an empty DataFrame. The output suggests that the data might be in JSON format despite being in a CSV file. Let's try to parse the JSON-like data to get a proper DataFrame.\"), type='text'),\n",
              " MessageContentText(text=Text(annotations=[], value=\"To proceed with the task at hand, let's first take the following steps:\\n\\n1. Load the data from the uploaded file.\\n2. Inspect the data to understand its structure, such as the columns available and whether it contains the necessary information to calculate profit, quarter, year, and distribution channels.\\n3. Perform any necessary data processing to calculate profit by quarter and year for each distribution channel.\\n4. Create a line plot to visualize the profit across the different distribution channels using green, light red, and light blue colors for the lines.\\n\\nFirst, I'll load the data and examine the first few rows to understand its structure.\"), type='text'),\n",
              " MessageContentText(text=Text(annotations=[], value='Calculate profit (revenue minus cost) by quarter and year, and visualize as a line plot across the distribution channels, where the colors of the lines are green, light red, and light blue'), type='text')]"
            ]
          },
          "metadata": {},
          "execution_count": 11
        }
      ]
    },
    {
      "cell_type": "code",
      "source": [
        "# Quick helper function to convert our output file to a png\n",
        "def convert_file_to_png(file_id, write_path):\n",
        "    data = client.files.content(file_id)\n",
        "    data_bytes = data.read()\n",
        "    with open(write_path, \"wb\") as file:\n",
        "        file.write(data_bytes)"
      ],
      "metadata": {
        "id": "B7l_ZzzP-gNU"
      },
      "execution_count": 12,
      "outputs": []
    },
    {
      "cell_type": "code",
      "source": [
        "plot_file_id = messages.data[0].content[0].image_file.file_id\n",
        "image_path = \"images/NotRealCorp_chart.png\"\n",
        "convert_file_to_png(plot_file_id,image_path)\n",
        "\n",
        "#Upload\n",
        "plot_file = client.files.create(\n",
        "  file=open(image_path, \"rb\"),\n",
        "  purpose='assistants'\n",
        ")"
      ],
      "metadata": {
        "id": "efO4LEcq-mnr"
      },
      "execution_count": 16,
      "outputs": []
    },
    {
      "cell_type": "markdown",
      "source": [
        "## 2. generating insight"
      ],
      "metadata": {
        "id": "nea_zy8R_WDU"
      }
    },
    {
      "cell_type": "code",
      "source": [
        "submit_message(assistant.id,thread,\"Give me two medium length sentences (~20-30 words per sentence) of the \\\n",
        "      most important insights from the plot you just created.\\\n",
        "             These will be used for a slide deck, and they should be about the\\\n",
        "                     'so what' behind the data.\"\n",
        ")"
      ],
      "metadata": {
        "colab": {
          "base_uri": "https://localhost:8080/"
        },
        "id": "-EHu5Jkb_Q22",
        "outputId": "36f993fd-1f38-407d-b9e3-ac67b24773eb"
      },
      "execution_count": 17,
      "outputs": [
        {
          "output_type": "execute_result",
          "data": {
            "text/plain": [
              "Run(id='run_vrUnGJWQwcnYlchez6g1DPU3', assistant_id='asst_05GHmOCoeLnTU7dEx4Oe9JmO', cancelled_at=None, completed_at=None, created_at=1702971151, expires_at=1702971751, failed_at=None, file_ids=['file-fKaRS0B17KWNbi1GZSz1Uf0f'], instructions='You are a data scientist assistant. When given data and a query, write the proper code and create the proper visualization', last_error=None, metadata={}, model='gpt-4-1106-preview', object='thread.run', required_action=None, started_at=None, status='queued', thread_id='thread_bBU7ZKtLPlvEOkYXy3Zq1Mhu', tools=[ToolAssistantToolsCode(type='code_interpreter')])"
            ]
          },
          "metadata": {},
          "execution_count": 17
        }
      ]
    },
    {
      "cell_type": "code",
      "source": [
        "# Hard coded wait for a response, as the assistant may iterate on the bullets.\n",
        "time.sleep(10)\n",
        "response = get_response(thread)\n",
        "bullet_points = response.data[0].content[0].text.value\n",
        "print(bullet_points)"
      ],
      "metadata": {
        "colab": {
          "base_uri": "https://localhost:8080/"
        },
        "id": "xRh5fVj2_bxs",
        "outputId": "970b712c-c084-4578-f87d-efc033d27987"
      },
      "execution_count": 18,
      "outputs": [
        {
          "output_type": "stream",
          "name": "stdout",
          "text": [
            "The line plot indicates that 'Online Sales' consistently outperform the other channels in terms of profit across all quarters, showcasing its vital role in the company's revenue stream. While 'Direct Sales' and 'Retail Partners' show variability, 'Online Sales' demonstrates a clear upward trend over the years, highlighting the increasing importance of e-commerce.\n"
          ]
        }
      ]
    },
    {
      "cell_type": "code",
      "source": [
        "submit_message(assistant.id,thread,\"Given the plot and bullet points you created,\\\n",
        " come up with a very brief title for a slide. It should reflect just the main insights you came up with.\"\n",
        ")"
      ],
      "metadata": {
        "colab": {
          "base_uri": "https://localhost:8080/"
        },
        "id": "rTR2AtuB_l6V",
        "outputId": "91dec348-10f8-4b5b-c28b-3884eff24678"
      },
      "execution_count": 19,
      "outputs": [
        {
          "output_type": "execute_result",
          "data": {
            "text/plain": [
              "Run(id='run_ucEhNTN0YCXXkTxqtB2hdAYb', assistant_id='asst_05GHmOCoeLnTU7dEx4Oe9JmO', cancelled_at=None, completed_at=None, created_at=1702971212, expires_at=1702971812, failed_at=None, file_ids=['file-fKaRS0B17KWNbi1GZSz1Uf0f'], instructions='You are a data scientist assistant. When given data and a query, write the proper code and create the proper visualization', last_error=None, metadata={}, model='gpt-4-1106-preview', object='thread.run', required_action=None, started_at=None, status='queued', thread_id='thread_bBU7ZKtLPlvEOkYXy3Zq1Mhu', tools=[ToolAssistantToolsCode(type='code_interpreter')])"
            ]
          },
          "metadata": {},
          "execution_count": 19
        }
      ]
    },
    {
      "cell_type": "code",
      "source": [
        "#Wait as assistant may take a few steps\n",
        "time.sleep(10)\n",
        "response = get_response(thread)\n",
        "title = response.data[0].content[0].text.value\n",
        "print(title)"
      ],
      "metadata": {
        "colab": {
          "base_uri": "https://localhost:8080/"
        },
        "id": "W-HnSYvN_pJV",
        "outputId": "4e3ca2e0-2c93-4a10-a8e2-e233e61b67b6"
      },
      "execution_count": 20,
      "outputs": [
        {
          "output_type": "stream",
          "name": "stdout",
          "text": [
            "\"E-Commerce Ascendancy: Leading Revenue Growth Across Quarters\"\n"
          ]
        }
      ]
    },
    {
      "cell_type": "markdown",
      "source": [
        "## 3. DALL·E-3 title image\n"
      ],
      "metadata": {
        "id": "e4ZRzScSAFjL"
      }
    },
    {
      "cell_type": "code",
      "source": [
        "company_summary = \"NotReal Corp is a prominent hardware company that manufactures and sells processors, graphics cards and other essential computer hardware.\"\n"
      ],
      "metadata": {
        "id": "lwRMed-UATc2"
      },
      "execution_count": 21,
      "outputs": []
    },
    {
      "cell_type": "code",
      "source": [
        "response = client.images.generate(\n",
        "  model='dall-e-3',\n",
        "  prompt=f\"given this company summary {company_summary}, create an inspirational \\\n",
        "    photo showing the growth and path forward. This will be used at a quarterly\\\n",
        "       financial planning meeting\",\n",
        "       size=\"1024x1024\",\n",
        "       quality=\"hd\",\n",
        "       n=1\n",
        ")\n",
        "image_url = response.data[0].url"
      ],
      "metadata": {
        "id": "eCn01LYKAX7k"
      },
      "execution_count": 22,
      "outputs": []
    },
    {
      "cell_type": "code",
      "source": [
        "dalle_img_path = 'images/dalle_image.png'\n",
        "img = requests.get(image_url)\n",
        "\n",
        "#Save locally\n",
        "with open(dalle_img_path,'wb') as file:\n",
        "  file.write(img.content)\n",
        "\n",
        "#Upload\n",
        "dalle_file = client.files.create(\n",
        "  file=open(dalle_img_path, \"rb\"),\n",
        "  purpose='assistants'\n",
        ")"
      ],
      "metadata": {
        "id": "0VOX-TqdAhzf"
      },
      "execution_count": 23,
      "outputs": []
    },
    {
      "cell_type": "markdown",
      "source": [
        "## 4. Creating the slides\n"
      ],
      "metadata": {
        "id": "BPq0OhxXA65i"
      }
    },
    {
      "cell_type": "code",
      "source": [
        "title_template = \"\"\"\n",
        "from pptx import Presentation\n",
        "from pptx.util import Inches, Pt\n",
        "from pptx.enum.text import PP_PARAGRAPH_ALIGNMENT\n",
        "from pptx.dml.color import RGBColor\n",
        "\n",
        "# Create a new presentation object\n",
        "prs = Presentation()\n",
        "\n",
        "# Add a blank slide layout\n",
        "blank_slide_layout = prs.slide_layouts[6]\n",
        "slide = prs.slides.add_slide(blank_slide_layout)\n",
        "\n",
        "# Set the background color of the slide to black\n",
        "background = slide.background\n",
        "fill = background.fill\n",
        "fill.solid()\n",
        "fill.fore_color.rgb = RGBColor(0, 0, 0)\n",
        "\n",
        "# Add image to the left side of the slide with a margin at the top and bottom\n",
        "left = Inches(0)\n",
        "top = Inches(0)\n",
        "height = prs.slide_height\n",
        "width = prs.slide_width * 3/5\n",
        "pic = slide.shapes.add_picture(image_path, left, top, width=width, height=height)\n",
        "\n",
        "# Add title text box positioned higher\n",
        "left = prs.slide_width * 3/5\n",
        "top = Inches(2)\n",
        "width = prs.slide_width * 2/5\n",
        "height = Inches(1)\n",
        "title_box = slide.shapes.add_textbox(left, top, width, height)\n",
        "title_frame = title_box.text_frame\n",
        "title_p = title_frame.add_paragraph()\n",
        "title_p.text = title_text\n",
        "title_p.font.bold = True\n",
        "title_p.font.size = Pt(38)\n",
        "title_p.font.color.rgb = RGBColor(255, 255, 255)\n",
        "title_p.alignment = PP_PARAGRAPH_ALIGNMENT.CENTER\n",
        "\n",
        "# Add subtitle text box\n",
        "left = prs.slide_width * 3/5\n",
        "top = Inches(3)\n",
        "width = prs.slide_width * 2/5\n",
        "height = Inches(1)\n",
        "subtitle_box = slide.shapes.add_textbox(left, top, width, height)\n",
        "subtitle_frame = subtitle_box.text_frame\n",
        "subtitle_p = subtitle_frame.add_paragraph()\n",
        "subtitle_p.text = subtitle_text\n",
        "subtitle_p.font.size = Pt(22)\n",
        "subtitle_p.font.color.rgb = RGBColor(255, 255, 255)\n",
        "subtitle_p.alignment = PP_PARAGRAPH_ALIGNMENT.CENTER\n",
        "\"\"\"\n",
        "\n",
        "data_vis_template = \"\"\"\n",
        "from pptx import Presentation\n",
        "from pptx.util import Inches, Pt\n",
        "from pptx.enum.text import PP_PARAGRAPH_ALIGNMENT\n",
        "from pptx.dml.color import RGBColor\n",
        "\n",
        "# Create a new presentation object\n",
        "prs = Presentation()\n",
        "\n",
        "# Add a blank slide layout\n",
        "blank_slide_layout = prs.slide_layouts[6]\n",
        "slide = prs.slides.add_slide(blank_slide_layout)\n",
        "\n",
        "# Set the background color of the slide to black\n",
        "background = slide.background\n",
        "fill = background.fill\n",
        "fill.solid()\n",
        "fill.fore_color.rgb = RGBColor(0, 0, 0)\n",
        "\n",
        "# Define placeholders\n",
        "image_path = data_vis_img\n",
        "title_text = \"Maximizing Profits: The Dominance of Online Sales & Direct Sales Optimization\"\n",
        "bullet_points = \"• Online Sales consistently lead in profitability across quarters, indicating a strong digital market presence.\\n• Direct Sales show fluctuations, suggesting variable performance and the need for targeted improvements in that channel.\"\n",
        "\n",
        "# Add image placeholder on the left side of the slide\n",
        "left = Inches(0.2)\n",
        "top = Inches(1.8)\n",
        "height = prs.slide_height - Inches(3)\n",
        "width = prs.slide_width * 3/5\n",
        "pic = slide.shapes.add_picture(image_path, left, top, width=width, height=height)\n",
        "\n",
        "# Add title text spanning the whole width\n",
        "left = Inches(0)\n",
        "top = Inches(0)\n",
        "width = prs.slide_width\n",
        "height = Inches(1)\n",
        "title_box = slide.shapes.add_textbox(left, top, width, height)\n",
        "title_frame = title_box.text_frame\n",
        "title_frame.margin_top = Inches(0.1)\n",
        "title_p = title_frame.add_paragraph()\n",
        "title_p.text = title_text\n",
        "title_p.font.bold = True\n",
        "title_p.font.size = Pt(28)\n",
        "title_p.font.color.rgb = RGBColor(255, 255, 255)\n",
        "title_p.alignment = PP_PARAGRAPH_ALIGNMENT.CENTER\n",
        "\n",
        "# Add hardcoded \"Key Insights\" text and bullet points\n",
        "left = prs.slide_width * 2/3\n",
        "top = Inches(1.5)\n",
        "width = prs.slide_width * 1/3\n",
        "height = Inches(4.5)\n",
        "insights_box = slide.shapes.add_textbox(left, top, width, height)\n",
        "insights_frame = insights_box.text_frame\n",
        "insights_p = insights_frame.add_paragraph()\n",
        "insights_p.text = \"Key Insights:\"\n",
        "insights_p.font.bold = True\n",
        "insights_p.font.size = Pt(24)\n",
        "insights_p.font.color.rgb = RGBColor(0, 128, 100)\n",
        "insights_p.alignment = PP_PARAGRAPH_ALIGNMENT.LEFT\n",
        "insights_frame.add_paragraph()\n",
        "\n",
        "\n",
        "bullet_p = insights_frame.add_paragraph()\n",
        "bullet_p.text = bullet_points\n",
        "bullet_p.font.size = Pt(12)\n",
        "bullet_p.font.color.rgb = RGBColor(255, 255, 255)\n",
        "bullet_p.line_spacing = 1.5\n",
        "\"\"\""
      ],
      "metadata": {
        "id": "ClXhYtNqA8BS"
      },
      "execution_count": 24,
      "outputs": []
    },
    {
      "cell_type": "code",
      "source": [
        "title_text = \"NotRealCorp\"\n",
        "subtitle_text = \"Quarterly financial planning meeting, Q3 2023\""
      ],
      "metadata": {
        "id": "_zhBSSrgBE8h"
      },
      "execution_count": 25,
      "outputs": []
    },
    {
      "cell_type": "code",
      "source": [
        "submit_message(assistant.id,thread,f\"Use the included code template to create a PPTX slide that follows the template format, but uses the image, company name/title, and document name/subtitle included:\\\n",
        "{title_template}. IMPORTANT: Use the image file included in this message as the image_path image in this first slide, and use the Company Name {title_text} as the title_text variable, and \\\n",
        "  use the subtitle_text {subtitle_text} a the subtitle_text variable. \\\n",
        "    NEST, create a SECOND slide using the following code template: {data_vis_template} to create a PPTX slide that follows the template format, but uses the company name/title, and document name/subtitle included:\\\n",
        "{data_vis_template}. IMPORTANT: Use the line plot image, that is the second attached image in this message, that you created earlier in the thread as the data_vis_img image, and use the data visualization title that you created earlier for the variable title_text, and\\\n",
        "  the bullet points of insights you created earlier for the bullet_points variable. Output these TWO SLIDES as a .pptx file. Make sure the output is two slides, with each slide matching the respective template given in this message.\",\n",
        "              file_ids=[dalle_file.id, plot_file.id]\n",
        ")"
      ],
      "metadata": {
        "colab": {
          "base_uri": "https://localhost:8080/"
        },
        "id": "C7fiRNrfBJYK",
        "outputId": "1e790a9a-19bd-4546-bb9e-2eb778675a62"
      },
      "execution_count": 26,
      "outputs": [
        {
          "output_type": "execute_result",
          "data": {
            "text/plain": [
              "Run(id='run_Xw1aLiZmxVIno2h8b4L6Jusz', assistant_id='asst_05GHmOCoeLnTU7dEx4Oe9JmO', cancelled_at=None, completed_at=None, created_at=1702971614, expires_at=1702972214, failed_at=None, file_ids=['file-fKaRS0B17KWNbi1GZSz1Uf0f'], instructions='You are a data scientist assistant. When given data and a query, write the proper code and create the proper visualization', last_error=None, metadata={}, model='gpt-4-1106-preview', object='thread.run', required_action=None, started_at=None, status='queued', thread_id='thread_bBU7ZKtLPlvEOkYXy3Zq1Mhu', tools=[ToolAssistantToolsCode(type='code_interpreter')])"
            ]
          },
          "metadata": {},
          "execution_count": 26
        }
      ]
    },
    {
      "cell_type": "code",
      "source": [
        "#May take 1-3 mins\n",
        "while True:\n",
        "    try:\n",
        "        response = get_response(thread)\n",
        "        pptx_id = response.data[0].content[0].text.annotations[0].file_path.file_id\n",
        "        print(\"Successfully retrieved pptx_id:\", pptx_id)\n",
        "        break\n",
        "    except Exception as e:\n",
        "        print(\"Assistant still working on PPTX...\")\n",
        "        time.sleep(10)"
      ],
      "metadata": {
        "colab": {
          "base_uri": "https://localhost:8080/"
        },
        "id": "1fKxnzBeBNUf",
        "outputId": "ee475ac3-d588-4e2b-e677-5cd2b70c56a5"
      },
      "execution_count": 27,
      "outputs": [
        {
          "output_type": "stream",
          "name": "stdout",
          "text": [
            "Assistant still working on PPTX...\n",
            "Assistant still working on PPTX...\n",
            "Assistant still working on PPTX...\n",
            "Assistant still working on PPTX...\n",
            "Assistant still working on PPTX...\n",
            "Assistant still working on PPTX...\n",
            "Assistant still working on PPTX...\n",
            "Assistant still working on PPTX...\n",
            "Assistant still working on PPTX...\n",
            "Assistant still working on PPTX...\n",
            "Successfully retrieved pptx_id: file-j7vIYscotBCCX8a0NUOVlm2i\n"
          ]
        }
      ]
    },
    {
      "cell_type": "code",
      "source": [
        "pptx_id = response.data[0].content[0].text.annotations[0].file_path.file_id\n",
        "ppt_file= client.files.content(pptx_id)\n",
        "file_obj = io.BytesIO(ppt_file.read())\n",
        "with open(\"data/created_slides.pptx\", \"wb\") as f:\n",
        "    f.write(file_obj.getbuffer())"
      ],
      "metadata": {
        "id": "AwY8z1pbB2Eb"
      },
      "execution_count": 28,
      "outputs": []
    }
  ]
}