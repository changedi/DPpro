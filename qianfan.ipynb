{
  "nbformat": 4,
  "nbformat_minor": 0,
  "metadata": {
    "colab": {
      "provenance": [],
      "authorship_tag": "ABX9TyN1y7xKbq71KjSxZPmSs53V",
      "include_colab_link": true
    },
    "kernelspec": {
      "name": "python3",
      "display_name": "Python 3"
    },
    "language_info": {
      "name": "python"
    }
  },
  "cells": [
    {
      "cell_type": "markdown",
      "metadata": {
        "id": "view-in-github",
        "colab_type": "text"
      },
      "source": [
        "<a href=\"https://colab.research.google.com/github/changedi/DPpro/blob/master/qianfan.ipynb\" target=\"_parent\"><img src=\"https://colab.research.google.com/assets/colab-badge.svg\" alt=\"Open In Colab\"/></a>"
      ]
    },
    {
      "cell_type": "markdown",
      "source": [
        "# 千帆单轮测试\n"
      ],
      "metadata": {
        "id": "TGDR7hJy_VXF"
      }
    },
    {
      "cell_type": "code",
      "execution_count": 1,
      "metadata": {
        "colab": {
          "base_uri": "https://localhost:8080/"
        },
        "id": "Ay3JYGK0_OI5",
        "outputId": "a3de3feb-e875-4f83-92f9-1b1a4701ba99"
      },
      "outputs": [
        {
          "output_type": "stream",
          "name": "stdout",
          "text": [
            "{\"id\":\"as-r92gdetwzg\",\"object\":\"chat.completion\",\"created\":1711007622,\"result\":\"成为一个幸运的人并不是完全取决于运气，而是取决于你的行为和态度。以下是一些建议，可以帮助你成为一个更幸运的人：\\n1. 培养积极的态度：积极的态度可以帮助你更好地应对挑战和困难，并吸引更多的好运。\\n2. 设定目标：设定明确的目标可以帮助你更清楚地知道自己想要什么，并采取行动来实现这些目标。\\n3. 学习新技能：学习新技能可以帮助你更好地适应变化，并提高你的自信心和能力。\\n4. 与积极的人交往：与积极的人交往可以帮助你保持积极的态度，并从他们身上学到更多。\\n5. 感恩：感恩可以让你更加珍惜你所拥有的，并吸引更多的好运。\\n6. 健康生活方式：保持健康的生活方式可以帮助你保持精力充沛，并提高你的幸福感和自信心。\\n7. 慷慨：慷慨可以让你更加善良和仁慈，并吸引更多的好运。\\n8. 坚持不懈：坚持不懈可以帮助你克服挑战和困难，并实现你的目标。\\n总之，成为一个幸运的人需要你积极地思考和行动，并保持积极的态度和行为。\",\"is_truncated\":false,\"need_clear_history\":false,\"usage\":{\"prompt_tokens\":4,\"completion_tokens\":225,\"total_tokens\":229}}\n"
          ]
        }
      ],
      "source": [
        "import requests\n",
        "import json\n",
        "\n",
        "from google.colab import userdata\n",
        "\n",
        "def get_access_token():\n",
        "    \"\"\"\n",
        "    使用 API Key，Secret Key 获取access_token，替换下列示例中的应用API Key、应用Secret Key\n",
        "    \"\"\"\n",
        "    api_key = userdata.get('apikey')\n",
        "    secret_key = userdata.get('secretkey')\n",
        "    url = \"https://aip.baidubce.com/oauth/2.0/token?grant_type=client_credentials&client_id=\"+api_key+\"&client_secret=\"+secret_key\n",
        "\n",
        "    payload = json.dumps(\"\")\n",
        "    headers = {\n",
        "        'Content-Type': 'application/json',\n",
        "        'Accept': 'application/json'\n",
        "    }\n",
        "\n",
        "    response = requests.request(\"POST\", url, headers=headers, data=payload)\n",
        "    return response.json().get(\"access_token\")\n",
        "\n",
        "\n",
        "def chat():\n",
        "    url = \"https://aip.baidubce.com/rpc/2.0/ai_custom/v1/wenxinworkshop/chat/qianfan_chinese_llama_2_13b?access_token=\" + get_access_token()\n",
        "\n",
        "    payload = json.dumps({\n",
        "         \"messages\": [\n",
        "            {\n",
        "                \"role\": \"user\",\n",
        "                \"content\": \"如何成为一个幸运的人\"\n",
        "            }\n",
        "        ]\n",
        "    })\n",
        "    headers = {\n",
        "        'Content-Type': 'application/json'\n",
        "    }\n",
        "\n",
        "    response = requests.request(\"POST\", url, headers=headers, data=payload)\n",
        "\n",
        "    print(response.text)\n",
        "\n",
        "chat()"
      ]
    },
    {
      "cell_type": "markdown",
      "source": [
        "# 千帆流式\n"
      ],
      "metadata": {
        "id": "HVE2iXVgALgs"
      }
    },
    {
      "cell_type": "code",
      "source": [
        "def stream():\n",
        "\n",
        "    url = \"https://aip.baidubce.com/rpc/2.0/ai_custom/v1/wenxinworkshop/chat/qianfan_chinese_llama_2_13b?access_token=\" + get_access_token()\n",
        "\n",
        "    payload = json.dumps({\n",
        "        \"messages\": [\n",
        "            {\n",
        "                \"role\": \"user\",\n",
        "                \"content\": \"给我推荐一些AI技术书籍\"\n",
        "            }\n",
        "        ],\n",
        "         \"stream\": True\n",
        "    })\n",
        "    headers = {\n",
        "        'Content-Type': 'application/json'\n",
        "    }\n",
        "\n",
        "    response = requests.request(\"POST\", url, headers=headers, data=payload, stream=True)\n",
        "\n",
        "    for line in response.iter_lines():\n",
        "        print(line.decode(\"UTF-8\"))\n",
        "stream()"
      ],
      "metadata": {
        "colab": {
          "base_uri": "https://localhost:8080/"
        },
        "id": "BmuNoMFxAOL0",
        "outputId": "ed0740a1-1c78-43b5-9a9a-784a78f242da"
      },
      "execution_count": 2,
      "outputs": [
        {
          "output_type": "stream",
          "name": "stdout",
          "text": [
            "data: {\"id\":\"as-fvq5g4sefj\",\"object\":\"chat.completion\",\"created\":1711007822,\"sentence_id\":0,\"is_end\":false,\"is_truncated\":false,\"result\":\"以下是一些关于AI技术的书籍推荐：\\n1. 《深度学习》(Deep Learning) 作者：Ian Goodfellow、Yoshua Bengio、Aaron Courville\\n2. 《机器学习》(Machine Learning) 作者：Tom M. Mitchell\\n3. 《统计学习方法》(Statistical Learning Methods) 作者：李航\\n4. \",\"need_clear_history\":false,\"usage\":{\"prompt_tokens\":6,\"completion_tokens\":0,\"total_tokens\":6}}\n",
            "\n",
            "data: {\"id\":\"as-fvq5g4sefj\",\"object\":\"chat.completion\",\"created\":1711007824,\"sentence_id\":1,\"is_end\":false,\"is_truncated\":false,\"result\":\"《Python机器学习基础教程》(Python Machine Learning) 作者：Sebastian Raschka\\n5. 《TensorFlow实战》(TensorFlow in Action) 作者：Peter Harrington\\n6. 《计算机视觉：算法与应用》(Computer Vision: Algorithms and Applications) 作者：Richard Szeliski\\n7. 《自然语言处理综论\",\"need_clear_history\":false,\"usage\":{\"prompt_tokens\":6,\"completion_tokens\":0,\"total_tokens\":6}}\n",
            "\n",
            "data: {\"id\":\"as-fvq5g4sefj\",\"object\":\"chat.completion\",\"created\":1711007826,\"sentence_id\":2,\"is_end\":false,\"is_truncated\":false,\"result\":\"》(Foundations of Statistical Natural Language Processing) 作者：Christopher D. Manning、Hinrich Schütze、Prabhakar Raghavan\\n8. 《深度强化学习》(Deep Reinforcement Learning) 作者：Volodymyr Mnih、Koray Kavukcuoglu、David Silver\\n9. 《强化学习：一种现代方法》(Reinforcement Learning: An Introduction) 作者：Richard S. \",\"need_clear_history\":false,\"usage\":{\"prompt_tokens\":6,\"completion_tokens\":0,\"total_tokens\":6}}\n",
            "\n",
            "data: {\"id\":\"as-fvq5g4sefj\",\"object\":\"chat.completion\",\"created\":1711007827,\"sentence_id\":3,\"is_end\":true,\"is_truncated\":false,\"result\":\"Sutton、Andrew G. Barto\\n10. 《人工智能：一种现代方法》(Artificial Intelligence: A Modern Approach) 作者：Stuart Russell、Peter Norvig\",\"need_clear_history\":false,\"usage\":{\"prompt_tokens\":6,\"completion_tokens\":265,\"total_tokens\":271}}\n",
            "\n"
          ]
        }
      ]
    }
  ]
}