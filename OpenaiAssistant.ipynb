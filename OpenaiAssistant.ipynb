{
  "nbformat": 4,
  "nbformat_minor": 0,
  "metadata": {
    "colab": {
      "provenance": [],
      "authorship_tag": "ABX9TyMYn2hga3GEMghPsSVbnK/A",
      "include_colab_link": true
    },
    "kernelspec": {
      "name": "python3",
      "display_name": "Python 3"
    },
    "language_info": {
      "name": "python"
    }
  },
  "cells": [
    {
      "cell_type": "markdown",
      "metadata": {
        "id": "view-in-github",
        "colab_type": "text"
      },
      "source": [
        "<a href=\"https://colab.research.google.com/github/changedi/DPpro/blob/master/OpenaiAssistant.ipynb\" target=\"_parent\"><img src=\"https://colab.research.google.com/assets/colab-badge.svg\" alt=\"Open In Colab\"/></a>"
      ]
    },
    {
      "cell_type": "code",
      "execution_count": null,
      "metadata": {
        "id": "VCH5KcYTJC9c"
      },
      "outputs": [],
      "source": [
        "!pip install openai==1.2.3\n",
        "!pip install python-dotenv"
      ]
    },
    {
      "cell_type": "code",
      "source": [
        "!pip show openai | grep Version\n"
      ],
      "metadata": {
        "colab": {
          "base_uri": "https://localhost:8080/"
        },
        "id": "2NRxUgEtJ6Xl",
        "outputId": "46c2c403-75b2-481d-effa-6284e2e76a10"
      },
      "execution_count": 2,
      "outputs": [
        {
          "output_type": "stream",
          "name": "stdout",
          "text": [
            "Version: 1.2.3\n"
          ]
        }
      ]
    },
    {
      "cell_type": "code",
      "source": [
        "from dotenv import load_dotenv\n",
        "import os\n",
        "\n",
        "load_dotenv()\n",
        "\n",
        "os.environ[\"OPENAI_API_KEY\"] = os.getenv(\"OPENAI_API_KEY\")"
      ],
      "metadata": {
        "id": "t8lAJDeBKcrC"
      },
      "execution_count": 5,
      "outputs": []
    },
    {
      "cell_type": "code",
      "source": [
        "import json\n",
        "\n",
        "def show_json(obj):\n",
        "    display(json.loads(obj.model_dump_json()))"
      ],
      "metadata": {
        "id": "V_UZQJkiKFeB"
      },
      "execution_count": 3,
      "outputs": []
    },
    {
      "cell_type": "markdown",
      "source": [
        "## 一步一步实现Assistant"
      ],
      "metadata": {
        "id": "qQO7HTXrMNZB"
      }
    },
    {
      "cell_type": "code",
      "source": [
        "from openai import OpenAI\n",
        "\n",
        "client = OpenAI()\n",
        "\n",
        "assistant = client.beta.assistants.create(\n",
        "    name=\"Math Tutor\",\n",
        "    instructions=\"You are a personal math tutor. Answer questions briefly, in a sentence or less.\",\n",
        "    model=\"gpt-4-1106-preview\",\n",
        ")\n",
        "show_json(assistant)"
      ],
      "metadata": {
        "colab": {
          "base_uri": "https://localhost:8080/",
          "height": 201
        },
        "id": "Ww3h5igBKKFD",
        "outputId": "f3a687c4-96fc-4551-ada5-d8ee4cd9fd21"
      },
      "execution_count": 6,
      "outputs": [
        {
          "output_type": "display_data",
          "data": {
            "text/plain": [
              "{'id': 'asst_SZSgchaJWvsjPfsoMzjunDdm',\n",
              " 'created_at': 1700558135,\n",
              " 'description': None,\n",
              " 'file_ids': [],\n",
              " 'instructions': 'You are a personal math tutor. Answer questions briefly, in a sentence or less.',\n",
              " 'metadata': {},\n",
              " 'model': 'gpt-4-1106-preview',\n",
              " 'name': 'Math Tutor',\n",
              " 'object': 'assistant',\n",
              " 'tools': []}"
            ]
          },
          "metadata": {}
        }
      ]
    },
    {
      "cell_type": "markdown",
      "source": [
        "create threads"
      ],
      "metadata": {
        "id": "-3gz7ZIEKjvA"
      }
    },
    {
      "cell_type": "code",
      "source": [
        "thread = client.beta.threads.create()\n",
        "show_json(thread)"
      ],
      "metadata": {
        "colab": {
          "base_uri": "https://localhost:8080/",
          "height": 90
        },
        "id": "WnIOO4kRKlSw",
        "outputId": "561c21d4-7fa9-45b8-a402-09321ac2d201"
      },
      "execution_count": 7,
      "outputs": [
        {
          "output_type": "display_data",
          "data": {
            "text/plain": [
              "{'id': 'thread_Q9tQZHrPPExMzPzdVDEZBfSg',\n",
              " 'created_at': 1700558168,\n",
              " 'metadata': {},\n",
              " 'object': 'thread'}"
            ]
          },
          "metadata": {}
        }
      ]
    },
    {
      "cell_type": "markdown",
      "source": [
        "add messages to thread"
      ],
      "metadata": {
        "id": "a4UsLBB8Kpdg"
      }
    },
    {
      "cell_type": "code",
      "source": [
        "message = client.beta.threads.messages.create(\n",
        "    thread_id=thread.id,\n",
        "    role=\"user\",\n",
        "    content=\"I need to solve the equation `3x + 11 = 14`. Can you help me?\",\n",
        ")\n",
        "show_json(message)"
      ],
      "metadata": {
        "colab": {
          "base_uri": "https://localhost:8080/",
          "height": 237
        },
        "id": "flkQJSS9Krno",
        "outputId": "fe7cc62d-e586-4615-cfcb-2714ee5fd8a3"
      },
      "execution_count": 8,
      "outputs": [
        {
          "output_type": "display_data",
          "data": {
            "text/plain": [
              "{'id': 'msg_t9WlvsWROzFaUXm4svcIzN0u',\n",
              " 'assistant_id': None,\n",
              " 'content': [{'text': {'annotations': [],\n",
              "    'value': 'I need to solve the equation `3x + 11 = 14`. Can you help me?'},\n",
              "   'type': 'text'}],\n",
              " 'created_at': 1700558197,\n",
              " 'file_ids': [],\n",
              " 'metadata': {},\n",
              " 'object': 'thread.message',\n",
              " 'role': 'user',\n",
              " 'run_id': None,\n",
              " 'thread_id': 'thread_Q9tQZHrPPExMzPzdVDEZBfSg'}"
            ]
          },
          "metadata": {}
        }
      ]
    },
    {
      "cell_type": "markdown",
      "source": [
        "To get a completion from an Assistant for a given Thread, we must create a Run. Creating a Run will indicate to an Assistant it should look at the messages in the Thread and take action: either by adding a single response, or using tools."
      ],
      "metadata": {
        "id": "uhDGKljEK3bn"
      }
    },
    {
      "cell_type": "code",
      "source": [
        "run = client.beta.threads.runs.create(\n",
        "    thread_id=thread.id,\n",
        "    assistant_id=assistant.id,\n",
        ")\n",
        "show_json(run)"
      ],
      "metadata": {
        "colab": {
          "base_uri": "https://localhost:8080/",
          "height": 347
        },
        "id": "ofJJHef0K4R3",
        "outputId": "26cf0dff-7ca9-454e-89a4-9349b9a0b423"
      },
      "execution_count": 9,
      "outputs": [
        {
          "output_type": "display_data",
          "data": {
            "text/plain": [
              "{'id': 'run_JzAJYSTLqb9oTRbhaGa3HHQ4',\n",
              " 'assistant_id': 'asst_SZSgchaJWvsjPfsoMzjunDdm',\n",
              " 'cancelled_at': None,\n",
              " 'completed_at': None,\n",
              " 'created_at': 1700558256,\n",
              " 'expires_at': 1700558856,\n",
              " 'failed_at': None,\n",
              " 'file_ids': [],\n",
              " 'instructions': 'You are a personal math tutor. Answer questions briefly, in a sentence or less.',\n",
              " 'last_error': None,\n",
              " 'metadata': {},\n",
              " 'model': 'gpt-4-1106-preview',\n",
              " 'object': 'thread.run',\n",
              " 'required_action': None,\n",
              " 'started_at': None,\n",
              " 'status': 'queued',\n",
              " 'thread_id': 'thread_Q9tQZHrPPExMzPzdVDEZBfSg',\n",
              " 'tools': []}"
            ]
          },
          "metadata": {}
        }
      ]
    },
    {
      "cell_type": "markdown",
      "source": [
        "Unlike creating a completion in the Chat Completions API, creating a Run is an asynchronous operation. It will return immediately with the Run's metadata, which includes a status that will initially be set to queued. The status will be updated as the Assistant performs operations (like using tools and adding messages)."
      ],
      "metadata": {
        "id": "G7Lng16fLJee"
      }
    },
    {
      "cell_type": "code",
      "source": [
        "import time\n",
        "\n",
        "def wait_on_run(run, thread):\n",
        "    while run.status == \"queued\" or run.status == \"in_progress\":\n",
        "        run = client.beta.threads.runs.retrieve(\n",
        "            thread_id=thread.id,\n",
        "            run_id=run.id,\n",
        "        )\n",
        "        time.sleep(0.5)\n",
        "    return run"
      ],
      "metadata": {
        "id": "XBAn69q4LKZG"
      },
      "execution_count": 10,
      "outputs": []
    },
    {
      "cell_type": "code",
      "source": [
        "run = wait_on_run(run, thread)\n",
        "show_json(run)"
      ],
      "metadata": {
        "colab": {
          "base_uri": "https://localhost:8080/",
          "height": 347
        },
        "id": "NzQ4BbEKLOc9",
        "outputId": "e20f3551-9bcf-4d06-94c4-61922e60fd15"
      },
      "execution_count": 11,
      "outputs": [
        {
          "output_type": "display_data",
          "data": {
            "text/plain": [
              "{'id': 'run_JzAJYSTLqb9oTRbhaGa3HHQ4',\n",
              " 'assistant_id': 'asst_SZSgchaJWvsjPfsoMzjunDdm',\n",
              " 'cancelled_at': None,\n",
              " 'completed_at': 1700558259,\n",
              " 'created_at': 1700558256,\n",
              " 'expires_at': None,\n",
              " 'failed_at': None,\n",
              " 'file_ids': [],\n",
              " 'instructions': 'You are a personal math tutor. Answer questions briefly, in a sentence or less.',\n",
              " 'last_error': None,\n",
              " 'metadata': {},\n",
              " 'model': 'gpt-4-1106-preview',\n",
              " 'object': 'thread.run',\n",
              " 'required_action': None,\n",
              " 'started_at': 1700558256,\n",
              " 'status': 'completed',\n",
              " 'thread_id': 'thread_Q9tQZHrPPExMzPzdVDEZBfSg',\n",
              " 'tools': []}"
            ]
          },
          "metadata": {}
        }
      ]
    },
    {
      "cell_type": "markdown",
      "source": [
        "Now that the Run has completed, we can list the Messages in the Thread to see what got added by the Assistant.\n",
        "\n"
      ],
      "metadata": {
        "id": "MG_FNWnnLWfs"
      }
    },
    {
      "cell_type": "code",
      "source": [
        "messages = client.beta.threads.messages.list(thread_id=thread.id)\n",
        "show_json(messages)"
      ],
      "metadata": {
        "colab": {
          "base_uri": "https://localhost:8080/",
          "height": 531
        },
        "id": "zoW8ucD3LXDl",
        "outputId": "6658d03a-a5c2-4582-bbe0-013015162b11"
      },
      "execution_count": 12,
      "outputs": [
        {
          "output_type": "display_data",
          "data": {
            "text/plain": [
              "{'data': [{'id': 'msg_hS19OU83c1GvondJvS0t57Qd',\n",
              "   'assistant_id': 'asst_SZSgchaJWvsjPfsoMzjunDdm',\n",
              "   'content': [{'text': {'annotations': [],\n",
              "      'value': 'Sure, subtract 11 from both sides to get `3x = 3`, then divide both sides by 3 to solve for `x`, which gives you `x = 1`.'},\n",
              "     'type': 'text'}],\n",
              "   'created_at': 1700558257,\n",
              "   'file_ids': [],\n",
              "   'metadata': {},\n",
              "   'object': 'thread.message',\n",
              "   'role': 'assistant',\n",
              "   'run_id': 'run_JzAJYSTLqb9oTRbhaGa3HHQ4',\n",
              "   'thread_id': 'thread_Q9tQZHrPPExMzPzdVDEZBfSg'},\n",
              "  {'id': 'msg_t9WlvsWROzFaUXm4svcIzN0u',\n",
              "   'assistant_id': None,\n",
              "   'content': [{'text': {'annotations': [],\n",
              "      'value': 'I need to solve the equation `3x + 11 = 14`. Can you help me?'},\n",
              "     'type': 'text'}],\n",
              "   'created_at': 1700558197,\n",
              "   'file_ids': [],\n",
              "   'metadata': {},\n",
              "   'object': 'thread.message',\n",
              "   'role': 'user',\n",
              "   'run_id': None,\n",
              "   'thread_id': 'thread_Q9tQZHrPPExMzPzdVDEZBfSg'}],\n",
              " 'object': 'list',\n",
              " 'first_id': 'msg_hS19OU83c1GvondJvS0t57Qd',\n",
              " 'last_id': 'msg_t9WlvsWROzFaUXm4svcIzN0u',\n",
              " 'has_more': False}"
            ]
          },
          "metadata": {}
        }
      ]
    },
    {
      "cell_type": "markdown",
      "source": [
        "Let's ask our Assistant to explain the result a bit further!"
      ],
      "metadata": {
        "id": "p7dx477_LlnG"
      }
    },
    {
      "cell_type": "code",
      "source": [
        "# Create a message to append to our thread\n",
        "message = client.beta.threads.messages.create(\n",
        "    thread_id=thread.id, role=\"user\", content=\"Could you explain this to me?\"\n",
        ")\n",
        "\n",
        "# Execute our run\n",
        "run = client.beta.threads.runs.create(\n",
        "    thread_id=thread.id,\n",
        "    assistant_id=assistant.id,\n",
        ")\n",
        "\n",
        "# Wait for completion\n",
        "wait_on_run(run, thread)\n",
        "\n",
        "# Retrieve all the messages added after our last user message\n",
        "messages = client.beta.threads.messages.list(\n",
        "    thread_id=thread.id, order=\"asc\", after=message.id\n",
        ")\n",
        "show_json(messages)"
      ],
      "metadata": {
        "colab": {
          "base_uri": "https://localhost:8080/",
          "height": 329
        },
        "id": "J3x-yVbhLmT1",
        "outputId": "85c01db9-19bf-4317-9799-7f2d98cef171"
      },
      "execution_count": 13,
      "outputs": [
        {
          "output_type": "display_data",
          "data": {
            "text/plain": [
              "{'data': [{'id': 'msg_Jmu3FmLXptptlyY1Eiw5Ab53',\n",
              "   'assistant_id': 'asst_SZSgchaJWvsjPfsoMzjunDdm',\n",
              "   'content': [{'text': {'annotations': [],\n",
              "      'value': \"Certainly! Here's a step-by-step explanation:\\n\\n1. You start with the equation: 3x + 11 = 14.\\n2. Subtract 11 from both sides to isolate the term with the variable: 3x + 11 - 11 = 14 - 11, which simplifies to 3x = 3.\\n3. Divide both sides by 3 to solve for x: (3x)/3 = 3/3, which simplifies to x = 1. \\n\\nNow you have the solution: x = 1.\"},\n",
              "     'type': 'text'}],\n",
              "   'created_at': 1700558468,\n",
              "   'file_ids': [],\n",
              "   'metadata': {},\n",
              "   'object': 'thread.message',\n",
              "   'role': 'assistant',\n",
              "   'run_id': 'run_ljCb3IWrkJQhwkhw6DrpxBif',\n",
              "   'thread_id': 'thread_Q9tQZHrPPExMzPzdVDEZBfSg'}],\n",
              " 'object': 'list',\n",
              " 'first_id': 'msg_Jmu3FmLXptptlyY1Eiw5Ab53',\n",
              " 'last_id': 'msg_Jmu3FmLXptptlyY1Eiw5Ab53',\n",
              " 'has_more': False}"
            ]
          },
          "metadata": {}
        }
      ]
    },
    {
      "cell_type": "markdown",
      "source": [
        "## 例子\n",
        "整理一个集合全部功能的例子，如果需要，前置步骤得加一个Assistant的创建"
      ],
      "metadata": {
        "id": "-Nw-Svn4MFZD"
      }
    },
    {
      "cell_type": "code",
      "source": [
        "from openai import OpenAI\n",
        "\n",
        "MATH_ASSISTANT_ID = assistant.id  # or a hard-coded ID like \"asst-...\"\n",
        "\n",
        "client = OpenAI()\n",
        "\n",
        "def submit_message(assistant_id, thread, user_message):\n",
        "    client.beta.threads.messages.create(\n",
        "        thread_id=thread.id, role=\"user\", content=user_message\n",
        "    )\n",
        "    return client.beta.threads.runs.create(\n",
        "        thread_id=thread.id,\n",
        "        assistant_id=assistant_id,\n",
        "    )\n",
        "\n",
        "\n",
        "def get_response(thread):\n",
        "    return client.beta.threads.messages.list(thread_id=thread.id, order=\"asc\")\n",
        "\n",
        "def create_thread_and_run(user_input):\n",
        "    thread = client.beta.threads.create()\n",
        "    run = submit_message(MATH_ASSISTANT_ID, thread, user_input)\n",
        "    return thread, run"
      ],
      "metadata": {
        "id": "hUAhtyxVMSZB"
      },
      "execution_count": 14,
      "outputs": []
    },
    {
      "cell_type": "code",
      "source": [
        "# Emulating concurrent user requests\n",
        "thread1, run1 = create_thread_and_run(\n",
        "    \"I need to solve the equation `3x + 11 = 14`. Can you help me?\"\n",
        ")\n",
        "thread2, run2 = create_thread_and_run(\"Could you explain linear algebra to me?\")\n",
        "thread3, run3 = create_thread_and_run(\"I don't like math. What can I do?\")\n",
        "\n",
        "# Now all Runs are executing..."
      ],
      "metadata": {
        "id": "of62Xu6jMrUn"
      },
      "execution_count": 15,
      "outputs": []
    },
    {
      "cell_type": "code",
      "source": [
        "import time\n",
        "\n",
        "# Pretty printing helper\n",
        "def pretty_print(messages):\n",
        "    print(\"# Messages\")\n",
        "    for m in messages:\n",
        "        print(f\"{m.role}: {m.content[0].text.value}\")\n",
        "    print()\n",
        "\n",
        "\n",
        "# Waiting in a loop\n",
        "def wait_on_run(run, thread):\n",
        "    while run.status == \"queued\" or run.status == \"in_progress\":\n",
        "        run = client.beta.threads.runs.retrieve(\n",
        "            thread_id=thread.id,\n",
        "            run_id=run.id,\n",
        "        )\n",
        "        time.sleep(0.5)\n",
        "    return run\n",
        "\n",
        "\n",
        "# Wait for Run 1\n",
        "run1 = wait_on_run(run1, thread1)\n",
        "pretty_print(get_response(thread1))\n",
        "\n",
        "# Wait for Run 2\n",
        "run2 = wait_on_run(run2, thread2)\n",
        "pretty_print(get_response(thread2))\n",
        "\n",
        "# Wait for Run 3\n",
        "run3 = wait_on_run(run3, thread3)\n",
        "pretty_print(get_response(thread3))\n",
        "\n",
        "# Thank our assistant on Thread 3 :)\n",
        "run4 = submit_message(MATH_ASSISTANT_ID, thread3, \"Thank you!\")\n",
        "run4 = wait_on_run(run4, thread3)\n",
        "pretty_print(get_response(thread3))"
      ],
      "metadata": {
        "colab": {
          "base_uri": "https://localhost:8080/"
        },
        "id": "w67yDTTEMwvf",
        "outputId": "f5dd0904-e55b-47ec-93a1-2965b0b8eb3e"
      },
      "execution_count": 16,
      "outputs": [
        {
          "output_type": "stream",
          "name": "stdout",
          "text": [
            "# Messages\n",
            "user: I need to solve the equation `3x + 11 = 14`. Can you help me?\n",
            "assistant: Yes, subtract 11 from both sides to get `3x = 3`, and then divide by 3 to find `x = 1`.\n",
            "\n",
            "# Messages\n",
            "user: Could you explain linear algebra to me?\n",
            "assistant: Linear algebra is the branch of mathematics that deals with vectors, vector spaces, linear transformations, and systems of linear equations, emphasizing the properties and operations in multidimensional spaces.\n",
            "\n",
            "# Messages\n",
            "user: I don't like math. What can I do?\n",
            "assistant: Try to find aspects of math that relate to your interests, or look for fun and practical applications to make it more engaging and relevant to your life.\n",
            "\n",
            "# Messages\n",
            "user: I don't like math. What can I do?\n",
            "assistant: Try to find aspects of math that relate to your interests, or look for fun and practical applications to make it more engaging and relevant to your life.\n",
            "user: Thank you!\n",
            "assistant: You're welcome! If you need any more help or have other questions, feel free to ask. Good luck with your math journey!\n",
            "\n"
          ]
        }
      ]
    },
    {
      "cell_type": "markdown",
      "source": [
        "## 使用工具"
      ],
      "metadata": {
        "id": "alixIdjaNEuW"
      }
    },
    {
      "cell_type": "markdown",
      "source": [
        "### 先看看Code Interpreter\n"
      ],
      "metadata": {
        "id": "3YyjlxvzNLTm"
      }
    },
    {
      "cell_type": "code",
      "source": [
        "assistant = client.beta.assistants.update(\n",
        "    MATH_ASSISTANT_ID,\n",
        "    tools=[{\"type\": \"code_interpreter\"}],\n",
        ")\n",
        "show_json(assistant)"
      ],
      "metadata": {
        "colab": {
          "base_uri": "https://localhost:8080/",
          "height": 201
        },
        "id": "7e9Gxc68NG1B",
        "outputId": "bbc23bb5-0151-4421-e927-c201ceb2b065"
      },
      "execution_count": 17,
      "outputs": [
        {
          "output_type": "display_data",
          "data": {
            "text/plain": [
              "{'id': 'asst_SZSgchaJWvsjPfsoMzjunDdm',\n",
              " 'created_at': 1700558135,\n",
              " 'description': None,\n",
              " 'file_ids': [],\n",
              " 'instructions': 'You are a personal math tutor. Answer questions briefly, in a sentence or less.',\n",
              " 'metadata': {},\n",
              " 'model': 'gpt-4-1106-preview',\n",
              " 'name': 'Math Tutor',\n",
              " 'object': 'assistant',\n",
              " 'tools': [{'type': 'code_interpreter'}]}"
            ]
          },
          "metadata": {}
        }
      ]
    },
    {
      "cell_type": "code",
      "source": [
        "thread, run = create_thread_and_run(\n",
        "    \"Generate the first 20 fibbonaci numbers with code.\"\n",
        ")\n",
        "run = wait_on_run(run, thread)\n",
        "pretty_print(get_response(thread))"
      ],
      "metadata": {
        "colab": {
          "base_uri": "https://localhost:8080/"
        },
        "id": "9fBfyh7fNUSW",
        "outputId": "09c27b10-1fc4-42d2-d7b6-274d911e1593"
      },
      "execution_count": 18,
      "outputs": [
        {
          "output_type": "stream",
          "name": "stdout",
          "text": [
            "# Messages\n",
            "user: Generate the first 20 fibbonaci numbers with code.\n",
            "assistant: The first 20 Fibonacci numbers are: \n",
            "0, 1, 1, 2, 3, 5, 8, 13, 21, 34, 55, 89, 144, 233, 377, 610, 987, 1597, 2584, 4181.\n",
            "\n"
          ]
        }
      ]
    },
    {
      "cell_type": "markdown",
      "source": [
        "A Run is composed of one or more Steps. Like a Run, each Step has a status that you can query. This is useful for surfacing the progress of a Step to a user (e.g. a spinner while the Assistant is writing code or performing retrieval).\n",
        "\n"
      ],
      "metadata": {
        "id": "qVQpH4oOOPJ7"
      }
    },
    {
      "cell_type": "code",
      "source": [
        "run_steps = client.beta.threads.runs.steps.list(\n",
        "    thread_id=thread.id, run_id=run.id, order=\"asc\"\n",
        ")"
      ],
      "metadata": {
        "id": "z079AnlxOJ2M"
      },
      "execution_count": 19,
      "outputs": []
    },
    {
      "cell_type": "code",
      "source": [
        "for step in run_steps.data:\n",
        "    step_details = step.step_details\n",
        "    print(json.dumps(show_json(step_details), indent=4))"
      ],
      "metadata": {
        "colab": {
          "base_uri": "https://localhost:8080/",
          "height": 201
        },
        "id": "MTh7eHZoOTdj",
        "outputId": "dd92494d-527a-443b-af9c-31f203acc360"
      },
      "execution_count": 20,
      "outputs": [
        {
          "output_type": "display_data",
          "data": {
            "text/plain": [
              "{'tool_calls': [{'id': 'call_rtqPePzfWGi5XtI8RmRaVtx0',\n",
              "   'code_interpreter': {'input': 'def fibonacci_sequence(n):\\n    sequence = [0, 1]\\n    while len(sequence) < n:\\n        sequence.append(sequence[-1] + sequence[-2])\\n    return sequence\\n\\nfirst_20_fibonacci_numbers = fibonacci_sequence(20)\\nfirst_20_fibonacci_numbers',\n",
              "    'outputs': [{'logs': '[0,\\n 1,\\n 1,\\n 2,\\n 3,\\n 5,\\n 8,\\n 13,\\n 21,\\n 34,\\n 55,\\n 89,\\n 144,\\n 233,\\n 377,\\n 610,\\n 987,\\n 1597,\\n 2584,\\n 4181]',\n",
              "      'type': 'logs'}]},\n",
              "   'type': 'code_interpreter'}],\n",
              " 'type': 'tool_calls'}"
            ]
          },
          "metadata": {}
        },
        {
          "output_type": "stream",
          "name": "stdout",
          "text": [
            "null\n"
          ]
        },
        {
          "output_type": "display_data",
          "data": {
            "text/plain": [
              "{'message_creation': {'message_id': 'msg_YXyTfjGIlmYh0EgEM3IzMJZ0'},\n",
              " 'type': 'message_creation'}"
            ]
          },
          "metadata": {}
        },
        {
          "output_type": "stream",
          "name": "stdout",
          "text": [
            "null\n"
          ]
        }
      ]
    },
    {
      "cell_type": "markdown",
      "source": [
        "### 接下来，检索\n",
        "Another powerful tool in the Assistants API is Retrieval: the ability to upload files that the Assistant will use as a knowledge base when answering questions. This can also be enabled from the Dashboard or the API, where we can upload files we want to be used."
      ],
      "metadata": {
        "id": "8-SPwu1kRNts"
      }
    },
    {
      "cell_type": "code",
      "source": [
        "!wget https://github.com/openai/openai-cookbook/blob/feef1bf3982e15ad180e17732525ddbadaf2b670/examples/data/language_models_are_unsupervised_multitask_learners.pdf"
      ],
      "metadata": {
        "id": "v_ZWUBcDRRKD"
      },
      "execution_count": null,
      "outputs": []
    },
    {
      "cell_type": "code",
      "source": [
        "# Upload the file\n",
        "file = client.files.create(\n",
        "    file=open(\n",
        "        \"language_models_are_unsupervised_multitask_learners.pdf\",\n",
        "        \"rb\",\n",
        "    ),\n",
        "    purpose=\"assistants\",\n",
        ")\n",
        "\n",
        "# Update Assistant\n",
        "assistant = client.beta.assistants.update(\n",
        "    MATH_ASSISTANT_ID,\n",
        "    tools=[{\"type\": \"code_interpreter\"}, {\"type\": \"retrieval\"}],\n",
        "    file_ids=[file.id],\n",
        ")\n",
        "show_json(assistant)"
      ],
      "metadata": {
        "colab": {
          "base_uri": "https://localhost:8080/",
          "height": 201
        },
        "id": "LslpzSIRRX6L",
        "outputId": "eaf3b1d4-f338-4b8c-9f1e-824de0cae707"
      },
      "execution_count": 22,
      "outputs": [
        {
          "output_type": "display_data",
          "data": {
            "text/plain": [
              "{'id': 'asst_SZSgchaJWvsjPfsoMzjunDdm',\n",
              " 'created_at': 1700558135,\n",
              " 'description': None,\n",
              " 'file_ids': ['file-L8SbCs76d5eR9hiiAUkqm1RF'],\n",
              " 'instructions': 'You are a personal math tutor. Answer questions briefly, in a sentence or less.',\n",
              " 'metadata': {},\n",
              " 'model': 'gpt-4-1106-preview',\n",
              " 'name': 'Math Tutor',\n",
              " 'object': 'assistant',\n",
              " 'tools': [{'type': 'code_interpreter'}, {'type': 'retrieval'}]}"
            ]
          },
          "metadata": {}
        }
      ]
    },
    {
      "cell_type": "code",
      "source": [
        "thread, run = create_thread_and_run(\n",
        "    \"What are some cool math concepts behind this ML paper pdf? Explain in two sentences.\"\n",
        ")\n",
        "run = wait_on_run(run, thread)\n",
        "pretty_print(get_response(thread))"
      ],
      "metadata": {
        "colab": {
          "base_uri": "https://localhost:8080/"
        },
        "id": "1Zghl7yDRx_v",
        "outputId": "0341779e-4cc1-4d93-f0df-bbbedba926a0"
      },
      "execution_count": 25,
      "outputs": [
        {
          "output_type": "stream",
          "name": "stdout",
          "text": [
            "# Messages\n",
            "user: What are some cool math concepts behind this ML paper pdf? Explain in two sentences.\n",
            "assistant: I am unable to provide the content requested because the PDF's format is not supported for text extraction in the current toolset. If you could specify a particular section or concept, or convert the PDF to a text-based format, I may be able to assist further.\n",
            "\n"
          ]
        }
      ]
    }
  ]
}