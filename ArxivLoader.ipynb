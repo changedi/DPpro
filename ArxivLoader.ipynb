{
  "nbformat": 4,
  "nbformat_minor": 0,
  "metadata": {
    "colab": {
      "provenance": [],
      "authorship_tag": "ABX9TyPj4SF0w05jNovOabUB4Du3",
      "include_colab_link": true
    },
    "kernelspec": {
      "name": "python3",
      "display_name": "Python 3"
    },
    "language_info": {
      "name": "python"
    }
  },
  "cells": [
    {
      "cell_type": "markdown",
      "metadata": {
        "id": "view-in-github",
        "colab_type": "text"
      },
      "source": [
        "<a href=\"https://colab.research.google.com/github/changedi/DPpro/blob/master/ArxivLoader.ipynb\" target=\"_parent\"><img src=\"https://colab.research.google.com/assets/colab-badge.svg\" alt=\"Open In Colab\"/></a>"
      ]
    },
    {
      "cell_type": "code",
      "execution_count": null,
      "metadata": {
        "id": "dOmqqT1FiVKe"
      },
      "outputs": [],
      "source": [
        "!pip install langchain --upgrade\n",
        "# Version: 0.0.164\n",
        "\n",
        "!pip install pypdf\n",
        "\n",
        "!pip install python-dotenv"
      ]
    },
    {
      "cell_type": "code",
      "source": [
        "# PDF Loaders. If unstructured gives you a hard time, try PyPDFLoader\n",
        "from langchain.document_loaders import UnstructuredPDFLoader, OnlinePDFLoader, PyPDFLoader\n",
        "\n",
        "from langchain.text_splitter import RecursiveCharacterTextSplitter\n",
        "import os"
      ],
      "metadata": {
        "id": "utXk946cjE-x"
      },
      "execution_count": null,
      "outputs": []
    },
    {
      "cell_type": "code",
      "source": [
        "!pip install arxiv"
      ],
      "metadata": {
        "id": "0XUkUHKRlncv"
      },
      "execution_count": null,
      "outputs": []
    },
    {
      "cell_type": "code",
      "source": [
        "!pip install pymupdf"
      ],
      "metadata": {
        "colab": {
          "base_uri": "https://localhost:8080/"
        },
        "id": "xsVPVCbIl5FE",
        "outputId": "4974493d-3f34-4d78-fcba-a42277209436"
      },
      "execution_count": null,
      "outputs": [
        {
          "output_type": "stream",
          "name": "stdout",
          "text": [
            "Collecting pymupdf\n",
            "  Downloading PyMuPDF-1.23.3-cp310-none-manylinux2014_x86_64.whl (4.3 MB)\n",
            "\u001b[2K     \u001b[90m━━━━━━━━━━━━━━━━━━━━━━━━━━━━━━━━━━━━━━━━\u001b[0m \u001b[32m4.3/4.3 MB\u001b[0m \u001b[31m10.3 MB/s\u001b[0m eta \u001b[36m0:00:00\u001b[0m\n",
            "\u001b[?25hCollecting PyMuPDFb==1.23.3 (from pymupdf)\n",
            "  Downloading PyMuPDFb-1.23.3-py3-none-manylinux2014_x86_64.manylinux_2_17_x86_64.whl (30.6 MB)\n",
            "\u001b[2K     \u001b[90m━━━━━━━━━━━━━━━━━━━━━━━━━━━━━━━━━━━━━━━━\u001b[0m \u001b[32m30.6/30.6 MB\u001b[0m \u001b[31m40.8 MB/s\u001b[0m eta \u001b[36m0:00:00\u001b[0m\n",
            "\u001b[?25hInstalling collected packages: PyMuPDFb, pymupdf\n",
            "Successfully installed PyMuPDFb-1.23.3 pymupdf-1.23.3\n"
          ]
        }
      ]
    },
    {
      "cell_type": "code",
      "source": [
        "from langchain.retrievers import ArxivRetriever\n",
        "retriever = ArxivRetriever(load_max_docs=2)\n",
        "docs = retriever.get_relevant_documents(query=\"2208.13629\")"
      ],
      "metadata": {
        "id": "6rLp9_wMlrc0"
      },
      "execution_count": null,
      "outputs": []
    },
    {
      "cell_type": "code",
      "source": [
        "docs[0].metadata  # meta-information of the Document"
      ],
      "metadata": {
        "colab": {
          "base_uri": "https://localhost:8080/"
        },
        "id": "6DvwCWaQmBMc",
        "outputId": "7986f380-f9d5-4b79-e992-6f457087fa5b"
      },
      "execution_count": null,
      "outputs": [
        {
          "output_type": "execute_result",
          "data": {
            "text/plain": [
              "{'Published': '2022-08-29',\n",
              " 'Title': 'A Survey on Text-to-SQL Parsing: Concepts, Methods, and Future Directions',\n",
              " 'Authors': 'Bowen Qin, Binyuan Hui, Lihan Wang, Min Yang, Jinyang Li, Binhua Li, Ruiying Geng, Rongyu Cao, Jian Sun, Luo Si, Fei Huang, Yongbin Li',\n",
              " 'Summary': 'Text-to-SQL parsing is an essential and challenging task. The goal of\\ntext-to-SQL parsing is to convert a natural language (NL) question to its\\ncorresponding structured query language (SQL) based on the evidences provided\\nby relational databases. Early text-to-SQL parsing systems from the database\\ncommunity achieved a noticeable progress with the cost of heavy human\\nengineering and user interactions with the systems. In recent years, deep\\nneural networks have significantly advanced this task by neural generation\\nmodels, which automatically learn a mapping function from an input NL question\\nto an output SQL query. Subsequently, the large pre-trained language models\\nhave taken the state-of-the-art of the text-to-SQL parsing task to a new level.\\nIn this survey, we present a comprehensive review on deep learning approaches\\nfor text-to-SQL parsing. First, we introduce the text-to-SQL parsing corpora\\nwhich can be categorized as single-turn and multi-turn. Second, we provide a\\nsystematical overview of pre-trained language models and existing methods for\\ntext-to-SQL parsing. Third, we present readers with the challenges faced by\\ntext-to-SQL parsing and explore some potential future directions in this field.'}"
            ]
          },
          "metadata": {},
          "execution_count": 8
        }
      ]
    },
    {
      "cell_type": "code",
      "source": [
        "docs[0].page_content[:400]  # a content of the Document"
      ],
      "metadata": {
        "colab": {
          "base_uri": "https://localhost:8080/",
          "height": 71
        },
        "id": "DmYuiP9VmEN6",
        "outputId": "5c7badb2-653d-4d26-ab90-f61c7405cdd1"
      },
      "execution_count": null,
      "outputs": [
        {
          "output_type": "execute_result",
          "data": {
            "text/plain": [
              "'IEEE TRANSACTIONS ON KNOWLEDGE AND DATA ENGINEERING\\n1\\nA Survey on Text-to-SQL Parsing: Concepts,\\nMethods, and Future Directions\\nBowen Qin, Binyuan Hui, Lihan Wang, Min Yang, Jinyang Li, Binhua Li, Ruiying Geng, Rongyu Cao, Jian\\nSun, Luo Si, Fei Huang, Yongbin Li\\nAbstract—Text-to-SQL parsing is an essential and challenging task. The goal of text-to-SQL parsing is to convert a natural language\\n(NL) '"
            ],
            "application/vnd.google.colaboratory.intrinsic+json": {
              "type": "string"
            }
          },
          "metadata": {},
          "execution_count": 9
        }
      ]
    },
    {
      "cell_type": "code",
      "source": [
        "from datetime import datetime\n",
        "from dateutil.relativedelta import relativedelta\n",
        "import os\n",
        "from langchain.llms import OpenAI\n",
        "from dotenv import load_dotenv\n",
        "\n",
        "load_dotenv()\n",
        "# for LangChain\n",
        "os.environ[\"OPENAI_API_KEY\"] = os.getenv(\"OPENAI_API_KEY\")"
      ],
      "metadata": {
        "id": "pbUB8OXGjHFQ"
      },
      "execution_count": 23,
      "outputs": []
    },
    {
      "cell_type": "code",
      "source": [
        "!pip install openai"
      ],
      "metadata": {
        "colab": {
          "base_uri": "https://localhost:8080/"
        },
        "id": "3Zv6bOSonC3N",
        "outputId": "7e24b8f2-76a6-469e-e225-2d790ef05dea"
      },
      "execution_count": null,
      "outputs": [
        {
          "output_type": "stream",
          "name": "stdout",
          "text": [
            "Collecting openai\n",
            "  Downloading openai-0.28.0-py3-none-any.whl (76 kB)\n",
            "\u001b[?25l     \u001b[90m━━━━━━━━━━━━━━━━━━━━━━━━━━━━━━━━━━━━━━━━\u001b[0m \u001b[32m0.0/76.5 kB\u001b[0m \u001b[31m?\u001b[0m eta \u001b[36m-:--:--\u001b[0m\r\u001b[2K     \u001b[91m━━━━━━━━━━━━━━━━━━━━━━━━━━━━━━━━━━━━━\u001b[0m\u001b[90m╺\u001b[0m\u001b[90m━━\u001b[0m \u001b[32m71.7/76.5 kB\u001b[0m \u001b[31m1.9 MB/s\u001b[0m eta \u001b[36m0:00:01\u001b[0m\r\u001b[2K     \u001b[90m━━━━━━━━━━━━━━━━━━━━━━━━━━━━━━━━━━━━━━━━\u001b[0m \u001b[32m76.5/76.5 kB\u001b[0m \u001b[31m1.6 MB/s\u001b[0m eta \u001b[36m0:00:00\u001b[0m\n",
            "\u001b[?25hRequirement already satisfied: requests>=2.20 in /usr/local/lib/python3.10/dist-packages (from openai) (2.31.0)\n",
            "Requirement already satisfied: tqdm in /usr/local/lib/python3.10/dist-packages (from openai) (4.66.1)\n",
            "Requirement already satisfied: aiohttp in /usr/local/lib/python3.10/dist-packages (from openai) (3.8.5)\n",
            "Requirement already satisfied: charset-normalizer<4,>=2 in /usr/local/lib/python3.10/dist-packages (from requests>=2.20->openai) (3.2.0)\n",
            "Requirement already satisfied: idna<4,>=2.5 in /usr/local/lib/python3.10/dist-packages (from requests>=2.20->openai) (3.4)\n",
            "Requirement already satisfied: urllib3<3,>=1.21.1 in /usr/local/lib/python3.10/dist-packages (from requests>=2.20->openai) (2.0.4)\n",
            "Requirement already satisfied: certifi>=2017.4.17 in /usr/local/lib/python3.10/dist-packages (from requests>=2.20->openai) (2023.7.22)\n",
            "Requirement already satisfied: attrs>=17.3.0 in /usr/local/lib/python3.10/dist-packages (from aiohttp->openai) (23.1.0)\n",
            "Requirement already satisfied: multidict<7.0,>=4.5 in /usr/local/lib/python3.10/dist-packages (from aiohttp->openai) (6.0.4)\n",
            "Requirement already satisfied: async-timeout<5.0,>=4.0.0a3 in /usr/local/lib/python3.10/dist-packages (from aiohttp->openai) (4.0.3)\n",
            "Requirement already satisfied: yarl<2.0,>=1.0 in /usr/local/lib/python3.10/dist-packages (from aiohttp->openai) (1.9.2)\n",
            "Requirement already satisfied: frozenlist>=1.1.1 in /usr/local/lib/python3.10/dist-packages (from aiohttp->openai) (1.4.0)\n",
            "Requirement already satisfied: aiosignal>=1.1.2 in /usr/local/lib/python3.10/dist-packages (from aiohttp->openai) (1.3.1)\n",
            "Installing collected packages: openai\n",
            "Successfully installed openai-0.28.0\n"
          ]
        }
      ]
    },
    {
      "cell_type": "code",
      "source": [
        "from langchain.chat_models import ChatOpenAI\n",
        "from langchain.chains import ConversationalRetrievalChain\n",
        "\n",
        "model = ChatOpenAI(model_name=\"gpt-3.5-turbo\")  # switch to 'gpt-4'\n",
        "qa = ConversationalRetrievalChain.from_llm(model, retriever=retriever)"
      ],
      "metadata": {
        "id": "4AiPv752m8Df"
      },
      "execution_count": 21,
      "outputs": []
    },
    {
      "cell_type": "code",
      "source": [
        "questions = [\n",
        "    \"What is Text-to-Sql?\",\n",
        "    \"What is the main idea of this paper?\",\n",
        "    \"What method does this paper provide?\",\n",
        "]\n",
        "chat_history = []\n",
        "\n",
        "for question in questions:\n",
        "    result = qa({\"question\": question, \"chat_history\": chat_history})\n",
        "    chat_history.append((question, result[\"answer\"]))\n",
        "    print(f\"-> **Question**: {question} \\n\")\n",
        "    print(f\"**Answer**: {result['answer']} \\n\")"
      ],
      "metadata": {
        "colab": {
          "base_uri": "https://localhost:8080/"
        },
        "id": "qDnJjzGKnLhc",
        "outputId": "f94ad18f-4707-47de-e544-326f4f709054"
      },
      "execution_count": 22,
      "outputs": [
        {
          "output_type": "stream",
          "name": "stdout",
          "text": [
            "-> **Question**: What is Text-to-Sql? \n",
            "\n",
            "**Answer**: I don't know what \"Text-to-Sql\" refers to. \n",
            "\n",
            "-> **Question**: What is the main idea of this paper? \n",
            "\n",
            "**Answer**: The main idea of this paper is to analyze a bifurcation phenomenon in the theory of noise-activated transitions in double-well systems. The authors study the behavior of the most probable transition path between the two wells as a system parameter is varied. They demonstrate that at the bifurcation point, the activation kinetics of the system become non-Arrhenius, meaning that the growth of the mean time between inter-well fluctuations is not purely exponential. The authors propose a new scaling theory to explain the weak-noise behavior at the bifurcation point and show that it applies to a large universality class of double-well systems. \n",
            "\n",
            "-> **Question**: What method does this paper provide? \n",
            "\n",
            "**Answer**: This paper provides a method for systematically deriving a finite set of observables to construct a lifted linear state space model that describes the rigid body dynamics based on the dual quaternion representation. \n",
            "\n"
          ]
        }
      ]
    },
    {
      "cell_type": "markdown",
      "source": [
        "# OPENAI的api调用\n"
      ],
      "metadata": {
        "id": "bzwBKbblwXhg"
      }
    },
    {
      "cell_type": "markdown",
      "source": [
        "## ChatCompletion"
      ],
      "metadata": {
        "id": "_507Ig2oxWWz"
      }
    },
    {
      "cell_type": "code",
      "source": [
        "# Example of an OpenAI ChatCompletion request\n",
        "# https://platform.openai.com/docs/guides/chat\n",
        "import time\n",
        "import openai\n",
        "# record the time before the request is sent\n",
        "start_time = time.time()\n",
        "\n",
        "# send a ChatCompletion request to count to 100\n",
        "response = openai.ChatCompletion.create(\n",
        "    model='gpt-3.5-turbo',\n",
        "    messages=[\n",
        "        { 'role': 'user',\n",
        "         'content': 'Count to 10, with a comma between each number and no newlines. E.g., 1, 2, 3, ...'\n",
        "         }\n",
        "    ],\n",
        "    temperature=0,\n",
        ")\n",
        "\n",
        "# calculate the time it took to receive the response\n",
        "response_time = time.time() - start_time\n",
        "\n",
        "# print the time delay and text received\n",
        "print(f\"Full response received {response_time:.2f} seconds after request\")\n",
        "print(f\"Full response received:\\n{response}\")"
      ],
      "metadata": {
        "id": "a8DAnNCswglG"
      },
      "execution_count": null,
      "outputs": []
    },
    {
      "cell_type": "markdown",
      "source": [
        "## PromptCompletion"
      ],
      "metadata": {
        "id": "aYViW0Ynxh57"
      }
    },
    {
      "cell_type": "code",
      "source": [
        "source = \"You sucks.\"\n",
        "prompt = f'''You are a helpful translater.\n",
        "Translate this sentence {source} to Chinese.\n",
        "'''\n",
        "response = openai.Completion.create(\n",
        "        prompt=prompt,\n",
        "        engine='text-davinci-003',\n",
        "        temperature=0,\n",
        "        top_p=1,\n",
        "        max_tokens=1500,\n",
        "    )\n",
        "\n",
        "print(f\"Full response received:\\n{response}\")"
      ],
      "metadata": {
        "colab": {
          "base_uri": "https://localhost:8080/"
        },
        "id": "5MIukyTcxlzp",
        "outputId": "588c4b7b-0dbf-42d4-ae72-f959cac0ea54"
      },
      "execution_count": 29,
      "outputs": [
        {
          "output_type": "stream",
          "name": "stdout",
          "text": [
            "Full response received:\n",
            "{\n",
            "  \"warning\": \"This model version is deprecated. Migrate before January 4, 2024 to avoid disruption of service. Learn more https://platform.openai.com/docs/deprecations\",\n",
            "  \"id\": \"cmpl-80nHzZlgFhNSn3DglKeSTOBFprxDm\",\n",
            "  \"object\": \"text_completion\",\n",
            "  \"created\": 1695200159,\n",
            "  \"model\": \"text-davinci-003\",\n",
            "  \"choices\": [\n",
            "    {\n",
            "      \"text\": \"\\u4f60\\u771f\\u7cdf\\u7cd5\\u3002\",\n",
            "      \"index\": 0,\n",
            "      \"logprobs\": null,\n",
            "      \"finish_reason\": \"stop\"\n",
            "    }\n",
            "  ],\n",
            "  \"usage\": {\n",
            "    \"prompt_tokens\": 20,\n",
            "    \"completion_tokens\": 11,\n",
            "    \"total_tokens\": 31\n",
            "  }\n",
            "}\n"
          ]
        }
      ]
    },
    {
      "cell_type": "markdown",
      "source": [
        "## Embedding"
      ],
      "metadata": {
        "id": "Jf4IWPNS0SQf"
      }
    },
    {
      "cell_type": "code",
      "source": [
        "from tenacity import retry, wait_random_exponential, stop_after_attempt, retry_if_not_exception_type\n",
        "EMBEDDING_MODEL = 'text-embedding-ada-002'\n",
        "EMBEDDING_CTX_LENGTH = 8191\n",
        "EMBEDDING_ENCODING = 'cl100k_base'\n",
        "\n",
        "# let's make sure to not retry on an invalid request, because that is what we want to demonstrate\n",
        "@retry(wait=wait_random_exponential(min=1, max=20), stop=stop_after_attempt(6), retry=retry_if_not_exception_type(openai.InvalidRequestError))\n",
        "def get_embedding(text_or_tokens, model=EMBEDDING_MODEL):\n",
        "    return openai.Embedding.create(input=text_or_tokens, model=model)[\"data\"][0][\"embedding\"]\n",
        "\n",
        "long_text = 'AGI ' * 2000\n",
        "try:\n",
        "    embedding=get_embedding(long_text)\n",
        "    print(len(embedding))\n",
        "    print(embedding[:10])\n",
        "except openai.InvalidRequestError as e:\n",
        "    print(e)"
      ],
      "metadata": {
        "colab": {
          "base_uri": "https://localhost:8080/"
        },
        "id": "_pKdREnJ0VLm",
        "outputId": "1d78a049-39a6-43ed-c1fd-50cfc2e44647"
      },
      "execution_count": 35,
      "outputs": [
        {
          "output_type": "stream",
          "name": "stdout",
          "text": [
            "1536\n",
            "[-0.013576747849583626, 0.005601828917860985, -0.008355950005352497, -0.016150379553437233, -0.00665802089497447, 0.0058759041130542755, -0.017634397372603416, 0.00013150175800547004, -0.005264248698949814, -0.024145353585481644]\n"
          ]
        }
      ]
    }
  ]
}