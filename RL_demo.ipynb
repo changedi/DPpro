{
  "nbformat": 4,
  "nbformat_minor": 0,
  "metadata": {
    "colab": {
      "provenance": [],
      "authorship_tag": "ABX9TyP4lDbK4Yz1hG1A4yMbplLx",
      "include_colab_link": true
    },
    "kernelspec": {
      "name": "python3",
      "display_name": "Python 3"
    },
    "language_info": {
      "name": "python"
    }
  },
  "cells": [
    {
      "cell_type": "markdown",
      "metadata": {
        "id": "view-in-github",
        "colab_type": "text"
      },
      "source": [
        "<a href=\"https://colab.research.google.com/github/changedi/DPpro/blob/master/RL_demo.ipynb\" target=\"_parent\"><img src=\"https://colab.research.google.com/assets/colab-badge.svg\" alt=\"Open In Colab\"/></a>"
      ]
    },
    {
      "cell_type": "code",
      "execution_count": null,
      "metadata": {
        "colab": {
          "base_uri": "https://localhost:8080/"
        },
        "id": "L0EUbYG_s9Dv",
        "outputId": "189e913c-e333-4345-bf3a-690a7852955f"
      },
      "outputs": [
        {
          "output_type": "stream",
          "name": "stdout",
          "text": [
            "随机生成了一个10臂伯努利老虎机\n",
            "获奖概率最大的拉杆为1号,其获奖概率为0.7203\n"
          ]
        }
      ],
      "source": [
        "# 导入需要使用的库,其中numpy是支持数组和矩阵运算的科学计算库,而matplotlib是绘图库\n",
        "import numpy as np\n",
        "import matplotlib.pyplot as plt\n",
        "\n",
        "\n",
        "class BernoulliBandit:\n",
        "    \"\"\" 伯努利多臂老虎机,输入K表示拉杆个数 \"\"\"\n",
        "    def __init__(self, K):\n",
        "        self.probs = np.random.uniform(size=K)  # 随机生成K个0～1的数,作为拉动每根拉杆的获奖概率\n",
        "        self.best_idx = np.argmax(self.probs)  # 获奖概率最大的拉杆\n",
        "        self.best_prob = self.probs[self.best_idx]  # 最大的获奖概率\n",
        "        self.K = K\n",
        "\n",
        "    def step(self, k):\n",
        "        # 当玩家选择了k号拉杆后,根据拉动该老虎机的k号拉杆获得奖励的概率返回1（获奖）或0（未\n",
        "        # 获奖）\n",
        "        if np.random.rand() < self.probs[k]:\n",
        "            return 1\n",
        "        else:\n",
        "            return 0\n",
        "\n",
        "\n",
        "np.random.seed(1)  # 设定随机种子,使实验具有可重复性\n",
        "K = 10\n",
        "bandit_10_arm = BernoulliBandit(K)\n",
        "print(\"随机生成了一个%d臂伯努利老虎机\" % K)\n",
        "print(\"获奖概率最大的拉杆为%d号,其获奖概率为%.4f\" %\n",
        "      (bandit_10_arm.best_idx, bandit_10_arm.best_prob))"
      ]
    },
    {
      "cell_type": "code",
      "source": [
        "class Solver:\n",
        "    \"\"\" 多臂老虎机算法基本框架 \"\"\"\n",
        "    def __init__(self, bandit):\n",
        "        self.bandit = bandit\n",
        "        self.counts = np.zeros(self.bandit.K)  # 每根拉杆的尝试次数\n",
        "        self.regret = 0.  # 当前步的累积懊悔\n",
        "        self.actions = []  # 维护一个列表,记录每一步的动作\n",
        "        self.regrets = []  # 维护一个列表,记录每一步的累积懊悔\n",
        "\n",
        "    def update_regret(self, k):\n",
        "        # 计算累积懊悔并保存,k为本次动作选择的拉杆的编号\n",
        "        self.regret += self.bandit.best_prob - self.bandit.probs[k]\n",
        "        self.regrets.append(self.regret)\n",
        "\n",
        "    def run_one_step(self):\n",
        "        # 返回当前动作选择哪一根拉杆,由每个具体的策略实现\n",
        "        raise NotImplementedError\n",
        "\n",
        "    def run(self, num_steps):\n",
        "        # 运行一定次数,num_steps为总运行次数\n",
        "        for _ in range(num_steps):\n",
        "            k = self.run_one_step()\n",
        "            self.counts[k] += 1\n",
        "            self.actions.append(k)\n",
        "            self.update_regret(k)"
      ],
      "metadata": {
        "id": "vKTyjkN0tQ5M"
      },
      "execution_count": null,
      "outputs": []
    },
    {
      "cell_type": "code",
      "source": [
        "class EpsilonGreedy(Solver):\n",
        "    \"\"\" epsilon贪婪算法,继承Solver类 \"\"\"\n",
        "    def __init__(self, bandit, epsilon=0.01, init_prob=1.0):\n",
        "        super(EpsilonGreedy, self).__init__(bandit)\n",
        "        self.epsilon = epsilon\n",
        "        #初始化拉动所有拉杆的期望奖励估值\n",
        "        self.estimates = np.array([init_prob] * self.bandit.K)\n",
        "\n",
        "    def run_one_step(self):\n",
        "        if np.random.random() < self.epsilon:\n",
        "            k = np.random.randint(0, self.bandit.K)  # 随机选择一根拉杆\n",
        "        else:\n",
        "            k = np.argmax(self.estimates)  # 选择期望奖励估值最大的拉杆\n",
        "        r = self.bandit.step(k)  # 得到本次动作的奖励\n",
        "        self.estimates[k] += 1. / (self.counts[k] + 1) * (r - self.estimates[k])\n",
        "        return k"
      ],
      "metadata": {
        "id": "iwdvCE63tZqv"
      },
      "execution_count": null,
      "outputs": []
    },
    {
      "cell_type": "code",
      "source": [
        "def plot_results(solvers, solver_names):\n",
        "    \"\"\"生成累积懊悔随时间变化的图像。输入solvers是一个列表,列表中的每个元素是一种特定的策略。\n",
        "    而solver_names也是一个列表,存储每个策略的名称\"\"\"\n",
        "    for idx, solver in enumerate(solvers):\n",
        "        time_list = range(len(solver.regrets))\n",
        "        plt.plot(time_list, solver.regrets, label=solver_names[idx])\n",
        "    plt.xlabel('Time steps')\n",
        "    plt.ylabel('Cumulative regrets')\n",
        "    plt.title('%d-armed bandit' % solvers[0].bandit.K)\n",
        "    plt.legend()\n",
        "    plt.show()\n",
        "\n",
        "\n",
        "np.random.seed(1)\n",
        "epsilon_greedy_solver = EpsilonGreedy(bandit_10_arm, epsilon=0.01)\n",
        "epsilon_greedy_solver.run(5000)\n",
        "print('epsilon-贪婪算法的累积懊悔为：', epsilon_greedy_solver.regret)\n",
        "plot_results([epsilon_greedy_solver], [\"EpsilonGreedy\"])"
      ],
      "metadata": {
        "id": "hfrU-VTpteyK"
      },
      "execution_count": null,
      "outputs": []
    },
    {
      "cell_type": "code",
      "source": [
        "np.random.seed(0)\n",
        "epsilons = [1e-4, 0.01, 0.1, 0.25, 0.5]\n",
        "epsilon_greedy_solver_list = [\n",
        "    EpsilonGreedy(bandit_10_arm, epsilon=e) for e in epsilons\n",
        "]\n",
        "epsilon_greedy_solver_names = [\"epsilon={}\".format(e) for e in epsilons]\n",
        "for solver in epsilon_greedy_solver_list:\n",
        "    solver.run(5000)\n",
        "\n",
        "plot_results(epsilon_greedy_solver_list, epsilon_greedy_solver_names)"
      ],
      "metadata": {
        "id": "0GBYwmwvtnZ_"
      },
      "execution_count": null,
      "outputs": []
    },
    {
      "cell_type": "code",
      "source": [
        "class DecayingEpsilonGreedy(Solver):\n",
        "    \"\"\" epsilon值随时间衰减的epsilon-贪婪算法,继承Solver类 \"\"\"\n",
        "    def __init__(self, bandit, init_prob=1.0):\n",
        "        super(DecayingEpsilonGreedy, self).__init__(bandit)\n",
        "        self.estimates = np.array([init_prob] * self.bandit.K)\n",
        "        self.total_count = 0\n",
        "\n",
        "    def run_one_step(self):\n",
        "        self.total_count += 1\n",
        "        if np.random.random() < 1 / self.total_count:  # epsilon值随时间衰减\n",
        "            k = np.random.randint(0, self.bandit.K)\n",
        "        else:\n",
        "            k = np.argmax(self.estimates)\n",
        "\n",
        "        r = self.bandit.step(k)\n",
        "        self.estimates[k] += 1. / (self.counts[k] + 1) * (r - self.estimates[k])\n",
        "\n",
        "        return k\n",
        "\n",
        "\n",
        "np.random.seed(1)\n",
        "decaying_epsilon_greedy_solver = DecayingEpsilonGreedy(bandit_10_arm)\n",
        "decaying_epsilon_greedy_solver.run(5000)\n",
        "print('epsilon值衰减的贪婪算法的累积懊悔为：', decaying_epsilon_greedy_solver.regret)\n",
        "plot_results([decaying_epsilon_greedy_solver], [\"DecayingEpsilonGreedy\"])"
      ],
      "metadata": {
        "id": "LhQby-xst0GN"
      },
      "execution_count": null,
      "outputs": []
    },
    {
      "cell_type": "code",
      "source": [
        "class UCB(Solver):\n",
        "    \"\"\" UCB算法,继承Solver类 \"\"\"\n",
        "    def __init__(self, bandit, coef, init_prob=1.0):\n",
        "        super(UCB, self).__init__(bandit)\n",
        "        self.total_count = 0\n",
        "        self.estimates = np.array([init_prob] * self.bandit.K)\n",
        "        self.coef = coef\n",
        "\n",
        "    def run_one_step(self):\n",
        "        self.total_count += 1\n",
        "        ucb = self.estimates + self.coef * np.sqrt(\n",
        "            np.log(self.total_count) / (2 * (self.counts + 1)))  # 计算上置信界\n",
        "        k = np.argmax(ucb)  # 选出上置信界最大的拉杆\n",
        "        r = self.bandit.step(k)\n",
        "        self.estimates[k] += 1. / (self.counts[k] + 1) * (r - self.estimates[k])\n",
        "        return k\n",
        "\n",
        "\n",
        "np.random.seed(1)\n",
        "coef = 1  # 控制不确定性比重的系数\n",
        "UCB_solver = UCB(bandit_10_arm, coef)\n",
        "UCB_solver.run(5000)\n",
        "print('上置信界算法的累积懊悔为：', UCB_solver.regret)\n",
        "plot_results([UCB_solver], [\"UCB\"])"
      ],
      "metadata": {
        "id": "BlD42LFfxHyF"
      },
      "execution_count": null,
      "outputs": []
    },
    {
      "cell_type": "code",
      "source": [
        "class ThompsonSampling(Solver):\n",
        "    \"\"\" 汤普森采样算法,继承Solver类 \"\"\"\n",
        "    def __init__(self, bandit):\n",
        "        super(ThompsonSampling, self).__init__(bandit)\n",
        "        self._a = np.ones(self.bandit.K)  # 列表,表示每根拉杆奖励为1的次数\n",
        "        self._b = np.ones(self.bandit.K)  # 列表,表示每根拉杆奖励为0的次数\n",
        "\n",
        "    def run_one_step(self):\n",
        "        samples = np.random.beta(self._a, self._b)  # 按照Beta分布采样一组奖励样本\n",
        "        k = np.argmax(samples)  # 选出采样奖励最大的拉杆\n",
        "        r = self.bandit.step(k)\n",
        "\n",
        "        self._a[k] += r  # 更新Beta分布的第一个参数\n",
        "        self._b[k] += (1 - r)  # 更新Beta分布的第二个参数\n",
        "        return k\n",
        "\n",
        "\n",
        "np.random.seed(1)\n",
        "thompson_sampling_solver = ThompsonSampling(bandit_10_arm)\n",
        "thompson_sampling_solver.run(5000)\n",
        "print('汤普森采样算法的累积懊悔为：', thompson_sampling_solver.regret)\n",
        "plot_results([thompson_sampling_solver], [\"ThompsonSampling\"])"
      ],
      "metadata": {
        "colab": {
          "base_uri": "https://localhost:8080/",
          "height": 489
        },
        "id": "iOGr0GOexKCw",
        "outputId": "74d1122d-9c26-4460-da09-ea3374fc1d21"
      },
      "execution_count": null,
      "outputs": [
        {
          "output_type": "stream",
          "name": "stdout",
          "text": [
            "汤普森采样算法的累积懊悔为： 57.19161964443925\n"
          ]
        },
        {
          "output_type": "display_data",
          "data": {
            "text/plain": [
              "<Figure size 640x480 with 1 Axes>"
            ],
            "image/png": "[encoded data removed]"
          },
          "metadata": {}
        }
      ]
    },
    {
      "cell_type": "code",
      "source": [],
      "metadata": {
        "id": "XM7fn8-3yiq0"
      },
      "execution_count": null,
      "outputs": []
    }
  ]
}